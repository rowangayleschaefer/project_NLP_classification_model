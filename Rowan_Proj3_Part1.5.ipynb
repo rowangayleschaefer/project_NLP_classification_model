{
 "cells": [
  {
   "cell_type": "code",
   "execution_count": 154,
   "id": "4a5eaa6b",
   "metadata": {},
   "outputs": [],
   "source": [
    "# To do:\n",
    "# Transfer readme to outline/make outline\n",
    "# Make proj pres outline/find images\n",
    "# Problem statement\n",
    "# Start scraping"
   ]
  },
  {
   "cell_type": "code",
   "execution_count": null,
   "id": "7bab0adf",
   "metadata": {},
   "outputs": [],
   "source": [
    "# H1 Title "
   ]
  },
  {
   "cell_type": "code",
   "execution_count": null,
   "id": "8d6b45ca",
   "metadata": {},
   "outputs": [],
   "source": [
    "# H2 Data Cleaning & EDA"
   ]
  },
  {
   "cell_type": "code",
   "execution_count": null,
   "id": "8a919a59",
   "metadata": {},
   "outputs": [],
   "source": [
    "# Picture"
   ]
  },
  {
   "cell_type": "code",
   "execution_count": null,
   "id": "d41af9b4",
   "metadata": {},
   "outputs": [],
   "source": [
    "# H4 Problem statement"
   ]
  },
  {
   "cell_type": "code",
   "execution_count": null,
   "id": "305c503d",
   "metadata": {},
   "outputs": [],
   "source": [
    "# Problem Statement\n",
    "# - Is it clear what the goal of the project is?\n",
    "# - What type of model will be developed?\n",
    "# - How will success be evaluated?\n",
    "# - Is the scope of the project appropriate?\n",
    "# - Is it clear who cares about this or why this is important to investigate?\n",
    "# - Does the student consider the audience and the primary and secondary stakeholders?"
   ]
  },
  {
   "cell_type": "code",
   "execution_count": null,
   "id": "9c0067be",
   "metadata": {},
   "outputs": [],
   "source": [
    "# H4 Data info"
   ]
  },
  {
   "cell_type": "code",
   "execution_count": null,
   "id": "d4426710",
   "metadata": {},
   "outputs": [],
   "source": [
    "# Data info and background "
   ]
  },
  {
   "cell_type": "code",
   "execution_count": null,
   "id": "21ec3b57",
   "metadata": {},
   "outputs": [],
   "source": [
    "# H4  Subreddit 1 "
   ]
  },
  {
   "cell_type": "code",
   "execution_count": null,
   "id": "9ce819d0",
   "metadata": {},
   "outputs": [],
   "source": [
    "# Subreddit 1 info"
   ]
  },
  {
   "cell_type": "code",
   "execution_count": null,
   "id": "9e7a0434",
   "metadata": {},
   "outputs": [],
   "source": [
    "# H4 Subreddit 2 "
   ]
  },
  {
   "cell_type": "code",
   "execution_count": null,
   "id": "8e4f6c11",
   "metadata": {},
   "outputs": [],
   "source": [
    "# Subreddit 2 info"
   ]
  },
  {
   "cell_type": "code",
   "execution_count": null,
   "id": "252ec6ac",
   "metadata": {},
   "outputs": [],
   "source": [
    "# Research questions"
   ]
  },
  {
   "cell_type": "code",
   "execution_count": null,
   "id": "0a09a5d3",
   "metadata": {},
   "outputs": [],
   "source": [
    "# H2 Data Collection\n",
    "# - Was enough data gathered to generate a significant result?\n",
    "# - Was data collected that was useful and relevant to the project?\n",
    "# - Was data collection and storage optimized through custom functions, pipelines, and/or automation?\n",
    "# - Was thought given to the server receiving the requests such as considering number of requests per second?"
   ]
  },
  {
   "cell_type": "markdown",
   "id": "fa57f258-3d07-4ab3-b10c-ce20baf49916",
   "metadata": {},
   "source": [
    "#### imports"
   ]
  },
  {
   "cell_type": "code",
   "execution_count": 124,
   "id": "a8a4aeb9-f2e2-4413-a8ca-d313939a531b",
   "metadata": {},
   "outputs": [],
   "source": [
    "import pandas as pd\n",
    "import numpy as np\n",
    "import dtale as dt\n",
    "import matplotlib.pyplot as plt\n",
    "import seaborn as sns"
   ]
  },
  {
   "cell_type": "code",
   "execution_count": 125,
   "id": "46584b1d-af3f-4b62-ae46-155324b9b731",
   "metadata": {},
   "outputs": [],
   "source": [
    "learnsql = pd.read_csv('./learnsql2.csv', index_col=[0])\n",
    "learnpy = pd.read_csv('./learnpython2.csv', index_col=[0])"
   ]
  },
  {
   "cell_type": "code",
   "execution_count": 126,
   "id": "0210d5c5-bad9-483a-a692-fd20db944e6b",
   "metadata": {},
   "outputs": [
    {
     "data": {
      "text/html": [
       "<div>\n",
       "<style scoped>\n",
       "    .dataframe tbody tr th:only-of-type {\n",
       "        vertical-align: middle;\n",
       "    }\n",
       "\n",
       "    .dataframe tbody tr th {\n",
       "        vertical-align: top;\n",
       "    }\n",
       "\n",
       "    .dataframe thead th {\n",
       "        text-align: right;\n",
       "    }\n",
       "</style>\n",
       "<table border=\"1\" class=\"dataframe\">\n",
       "  <thead>\n",
       "    <tr style=\"text-align: right;\">\n",
       "      <th></th>\n",
       "      <th>author</th>\n",
       "      <th>created_utc</th>\n",
       "      <th>id</th>\n",
       "      <th>is_created_from_ads_ui</th>\n",
       "      <th>num_comments</th>\n",
       "      <th>selftext</th>\n",
       "      <th>title</th>\n",
       "      <th>total_awards_received</th>\n",
       "      <th>upvote_ratio</th>\n",
       "      <th>url</th>\n",
       "    </tr>\n",
       "  </thead>\n",
       "  <tbody>\n",
       "    <tr>\n",
       "      <th>0</th>\n",
       "      <td>Topojino</td>\n",
       "      <td>1648490831</td>\n",
       "      <td>tqfey7</td>\n",
       "      <td>False</td>\n",
       "      <td>0</td>\n",
       "      <td>H1 guys, I'm looking for some kind of exchange...</td>\n",
       "      <td>Someone up to studying SQL?</td>\n",
       "      <td>0.0</td>\n",
       "      <td>1.0</td>\n",
       "      <td>https://www.reddit.com/r/learnSQL/comments/tqf...</td>\n",
       "    </tr>\n",
       "    <tr>\n",
       "      <th>1</th>\n",
       "      <td>TheBlackPopeOP</td>\n",
       "      <td>1648496607</td>\n",
       "      <td>tqhjt8</td>\n",
       "      <td>False</td>\n",
       "      <td>0</td>\n",
       "      <td>I have two tables that I need to combine, `Mai...</td>\n",
       "      <td>Am I writing this JOIN correctly?</td>\n",
       "      <td>0.0</td>\n",
       "      <td>1.0</td>\n",
       "      <td>https://www.reddit.com/r/learnSQL/comments/tqh...</td>\n",
       "    </tr>\n",
       "  </tbody>\n",
       "</table>\n",
       "</div>"
      ],
      "text/plain": [
       "           author  created_utc      id is_created_from_ads_ui  num_comments  \\\n",
       "0        Topojino   1648490831  tqfey7                  False             0   \n",
       "1  TheBlackPopeOP   1648496607  tqhjt8                  False             0   \n",
       "\n",
       "                                            selftext  \\\n",
       "0  H1 guys, I'm looking for some kind of exchange...   \n",
       "1  I have two tables that I need to combine, `Mai...   \n",
       "\n",
       "                               title  total_awards_received  upvote_ratio  \\\n",
       "0        Someone up to studying SQL?                    0.0           1.0   \n",
       "1  Am I writing this JOIN correctly?                    0.0           1.0   \n",
       "\n",
       "                                                 url  \n",
       "0  https://www.reddit.com/r/learnSQL/comments/tqf...  \n",
       "1  https://www.reddit.com/r/learnSQL/comments/tqh...  "
      ]
     },
     "execution_count": 126,
     "metadata": {},
     "output_type": "execute_result"
    }
   ],
   "source": [
    "learnsql.head(2)"
   ]
  },
  {
   "cell_type": "code",
   "execution_count": 153,
   "id": "6af81437-927e-46f5-8c64-26a5ff83be59",
   "metadata": {},
   "outputs": [
    {
     "data": {
      "text/html": [
       "<div>\n",
       "<style scoped>\n",
       "    .dataframe tbody tr th:only-of-type {\n",
       "        vertical-align: middle;\n",
       "    }\n",
       "\n",
       "    .dataframe tbody tr th {\n",
       "        vertical-align: top;\n",
       "    }\n",
       "\n",
       "    .dataframe thead th {\n",
       "        text-align: right;\n",
       "    }\n",
       "</style>\n",
       "<table border=\"1\" class=\"dataframe\">\n",
       "  <thead>\n",
       "    <tr style=\"text-align: right;\">\n",
       "      <th></th>\n",
       "      <th>author</th>\n",
       "      <th>created_utc</th>\n",
       "      <th>id</th>\n",
       "      <th>num_comments</th>\n",
       "      <th>selftext</th>\n",
       "      <th>title</th>\n",
       "      <th>upvote_ratio</th>\n",
       "      <th>url</th>\n",
       "    </tr>\n",
       "  </thead>\n",
       "  <tbody>\n",
       "    <tr>\n",
       "      <th>0</th>\n",
       "      <td>InspectorMadShit</td>\n",
       "      <td>1648486732</td>\n",
       "      <td>tqduy0</td>\n",
       "      <td>0</td>\n",
       "      <td>if user\\_input == 1:\\n\\nnew\\_name = input(\"Ent...</td>\n",
       "      <td>I'm not sure how to get my code (below) to loo...</td>\n",
       "      <td>1.0</td>\n",
       "      <td>https://www.reddit.com/r/learnpython/comments/...</td>\n",
       "    </tr>\n",
       "    <tr>\n",
       "      <th>1</th>\n",
       "      <td>sivasiriyapureddy</td>\n",
       "      <td>1648486861</td>\n",
       "      <td>tqdwwc</td>\n",
       "      <td>0</td>\n",
       "      <td>[removed]</td>\n",
       "      <td>11+ Best Python books for data Science to lear...</td>\n",
       "      <td>1.0</td>\n",
       "      <td>https://www.reddit.com/r/learnpython/comments/...</td>\n",
       "    </tr>\n",
       "    <tr>\n",
       "      <th>2</th>\n",
       "      <td>EJS4001Runner</td>\n",
       "      <td>1648487262</td>\n",
       "      <td>tqe2iw</td>\n",
       "      <td>0</td>\n",
       "      <td>I have taken a couple of courses on Udemy and ...</td>\n",
       "      <td>I’m lost in knowing what to do next</td>\n",
       "      <td>1.0</td>\n",
       "      <td>https://www.reddit.com/r/learnpython/comments/...</td>\n",
       "    </tr>\n",
       "    <tr>\n",
       "      <th>3</th>\n",
       "      <td>HeronPopular6340</td>\n",
       "      <td>1648487274</td>\n",
       "      <td>tqe2ox</td>\n",
       "      <td>0</td>\n",
       "      <td>So im doing coursework for my higher computing...</td>\n",
       "      <td>Invalid syntax error with no obvious reason wh...</td>\n",
       "      <td>1.0</td>\n",
       "      <td>https://www.reddit.com/r/learnpython/comments/...</td>\n",
       "    </tr>\n",
       "    <tr>\n",
       "      <th>4</th>\n",
       "      <td>Nisamoto</td>\n",
       "      <td>1648488362</td>\n",
       "      <td>tqehd6</td>\n",
       "      <td>0</td>\n",
       "      <td>Hello, I'm analyzing a dataset from a multiple...</td>\n",
       "      <td>Need help with SettingWithCopyWarning (pandas)</td>\n",
       "      <td>1.0</td>\n",
       "      <td>https://www.reddit.com/r/learnpython/comments/...</td>\n",
       "    </tr>\n",
       "    <tr>\n",
       "      <th>5</th>\n",
       "      <td>OriginalFuel3618</td>\n",
       "      <td>1648488685</td>\n",
       "      <td>tqelzm</td>\n",
       "      <td>0</td>\n",
       "      <td>**answer = 17**\\n\\n**if answer != 42:**\\n\\n**p...</td>\n",
       "      <td>Can someone explain why this is correct?</td>\n",
       "      <td>1.0</td>\n",
       "      <td>https://www.reddit.com/r/learnpython/comments/...</td>\n",
       "    </tr>\n",
       "    <tr>\n",
       "      <th>6</th>\n",
       "      <td>carbon_fiber_</td>\n",
       "      <td>1648489527</td>\n",
       "      <td>tqexfj</td>\n",
       "      <td>0</td>\n",
       "      <td>Hey guys. I have some questions from ENEM (Bra...</td>\n",
       "      <td>Best way to classificate OR cluster exam quest...</td>\n",
       "      <td>1.0</td>\n",
       "      <td>https://www.reddit.com/r/learnpython/comments/...</td>\n",
       "    </tr>\n",
       "    <tr>\n",
       "      <th>7</th>\n",
       "      <td>Glum_Bee_77868</td>\n",
       "      <td>1648489759</td>\n",
       "      <td>tqf0g9</td>\n",
       "      <td>0</td>\n",
       "      <td>Scrapy. Why is it creating the excel file but ...</td>\n",
       "      <td>items not appending to my excel file in scrapy</td>\n",
       "      <td>1.0</td>\n",
       "      <td>https://www.reddit.com/r/learnpython/comments/...</td>\n",
       "    </tr>\n",
       "    <tr>\n",
       "      <th>8</th>\n",
       "      <td>rob51852</td>\n",
       "      <td>1648490030</td>\n",
       "      <td>tqf3z3</td>\n",
       "      <td>0</td>\n",
       "      <td>if var_one in var_text and float_price &amp;gt...</td>\n",
       "      <td>What is wrong with my logic?</td>\n",
       "      <td>1.0</td>\n",
       "      <td>https://www.reddit.com/r/learnpython/comments/...</td>\n",
       "    </tr>\n",
       "    <tr>\n",
       "      <th>9</th>\n",
       "      <td>Nilaz10000</td>\n",
       "      <td>1648490925</td>\n",
       "      <td>tqfg3z</td>\n",
       "      <td>0</td>\n",
       "      <td>anyone knows how to solve this without err...</td>\n",
       "      <td>nzec error in codechef on line 5</td>\n",
       "      <td>1.0</td>\n",
       "      <td>https://www.reddit.com/r/learnpython/comments/...</td>\n",
       "    </tr>\n",
       "  </tbody>\n",
       "</table>\n",
       "</div>"
      ],
      "text/plain": [
       "              author  created_utc      id  num_comments  \\\n",
       "0   InspectorMadShit   1648486732  tqduy0             0   \n",
       "1  sivasiriyapureddy   1648486861  tqdwwc             0   \n",
       "2      EJS4001Runner   1648487262  tqe2iw             0   \n",
       "3   HeronPopular6340   1648487274  tqe2ox             0   \n",
       "4           Nisamoto   1648488362  tqehd6             0   \n",
       "5   OriginalFuel3618   1648488685  tqelzm             0   \n",
       "6      carbon_fiber_   1648489527  tqexfj             0   \n",
       "7     Glum_Bee_77868   1648489759  tqf0g9             0   \n",
       "8           rob51852   1648490030  tqf3z3             0   \n",
       "9         Nilaz10000   1648490925  tqfg3z             0   \n",
       "\n",
       "                                            selftext  \\\n",
       "0  if user\\_input == 1:\\n\\nnew\\_name = input(\"Ent...   \n",
       "1                                          [removed]   \n",
       "2  I have taken a couple of courses on Udemy and ...   \n",
       "3  So im doing coursework for my higher computing...   \n",
       "4  Hello, I'm analyzing a dataset from a multiple...   \n",
       "5  **answer = 17**\\n\\n**if answer != 42:**\\n\\n**p...   \n",
       "6  Hey guys. I have some questions from ENEM (Bra...   \n",
       "7  Scrapy. Why is it creating the excel file but ...   \n",
       "8      if var_one in var_text and float_price &gt...   \n",
       "9      anyone knows how to solve this without err...   \n",
       "\n",
       "                                               title  upvote_ratio  \\\n",
       "0  I'm not sure how to get my code (below) to loo...           1.0   \n",
       "1  11+ Best Python books for data Science to lear...           1.0   \n",
       "2                I’m lost in knowing what to do next           1.0   \n",
       "3  Invalid syntax error with no obvious reason wh...           1.0   \n",
       "4     Need help with SettingWithCopyWarning (pandas)           1.0   \n",
       "5           Can someone explain why this is correct?           1.0   \n",
       "6  Best way to classificate OR cluster exam quest...           1.0   \n",
       "7     items not appending to my excel file in scrapy           1.0   \n",
       "8                       What is wrong with my logic?           1.0   \n",
       "9                   nzec error in codechef on line 5           1.0   \n",
       "\n",
       "                                                 url  \n",
       "0  https://www.reddit.com/r/learnpython/comments/...  \n",
       "1  https://www.reddit.com/r/learnpython/comments/...  \n",
       "2  https://www.reddit.com/r/learnpython/comments/...  \n",
       "3  https://www.reddit.com/r/learnpython/comments/...  \n",
       "4  https://www.reddit.com/r/learnpython/comments/...  \n",
       "5  https://www.reddit.com/r/learnpython/comments/...  \n",
       "6  https://www.reddit.com/r/learnpython/comments/...  \n",
       "7  https://www.reddit.com/r/learnpython/comments/...  \n",
       "8  https://www.reddit.com/r/learnpython/comments/...  \n",
       "9  https://www.reddit.com/r/learnpython/comments/...  "
      ]
     },
     "execution_count": 153,
     "metadata": {},
     "output_type": "execute_result"
    }
   ],
   "source": [
    "learnpy.head(10)"
   ]
  },
  {
   "cell_type": "markdown",
   "id": "fe0c588e-7391-464d-b0ae-6c18f27c5cc2",
   "metadata": {},
   "source": [
    "## Data Cleaning"
   ]
  },
  {
   "cell_type": "code",
   "execution_count": 128,
   "id": "de93f39e",
   "metadata": {},
   "outputs": [],
   "source": [
    "# H2 Cleaning \n",
    "# - Are missing values imputed/handled appropriately?\n",
    "# - Are distributions examined and described?\n",
    "# - Are outliers identified and addressed?\n",
    "# - Are appropriate summary statistics provided?\n",
    "# - Are steps taken during data cleaning and EDA framed appropriately?\n",
    "# - Does the student address whether or not they are likely to be able to answer their problem statement with the provided data given what \n",
    "# - they've discovered during EDA?"
   ]
  },
  {
   "cell_type": "code",
   "execution_count": 129,
   "id": "f0d7b9f0",
   "metadata": {},
   "outputs": [],
   "source": [
    "# H4 imports"
   ]
  },
  {
   "cell_type": "code",
   "execution_count": 130,
   "id": "fe863496",
   "metadata": {},
   "outputs": [],
   "source": [
    "# API reference: http://count.reddit-stream.com/api_info/thread"
   ]
  },
  {
   "cell_type": "markdown",
   "id": "5588acb2-6240-4fdb-8f3e-d31a1560d933",
   "metadata": {},
   "source": [
    "#### Checking duplicates"
   ]
  },
  {
   "cell_type": "code",
   "execution_count": 131,
   "id": "255ae4d1-caa7-475c-a5ba-f95dbd2afdf2",
   "metadata": {},
   "outputs": [
    {
     "name": "stdout",
     "output_type": "stream",
     "text": [
      "0     False\n",
      "1     False\n",
      "2     False\n",
      "3     False\n",
      "4     False\n",
      "      ...  \n",
      "13    False\n",
      "14    False\n",
      "15    False\n",
      "16    False\n",
      "17    False\n",
      "Name: url, Length: 2927, dtype: bool\n",
      "<class 'pandas.core.frame.DataFrame'>\n",
      "Int64Index: 2897 entries, 0 to 17\n",
      "Data columns (total 10 columns):\n",
      " #   Column                  Non-Null Count  Dtype  \n",
      "---  ------                  --------------  -----  \n",
      " 0   author                  2897 non-null   object \n",
      " 1   created_utc             2897 non-null   int64  \n",
      " 2   id                      2897 non-null   object \n",
      " 3   is_created_from_ads_ui  1030 non-null   object \n",
      " 4   num_comments            2897 non-null   int64  \n",
      " 5   selftext                2367 non-null   object \n",
      " 6   title                   2897 non-null   object \n",
      " 7   total_awards_received   2559 non-null   float64\n",
      " 8   upvote_ratio            1985 non-null   float64\n",
      " 9   url                     2897 non-null   object \n",
      "dtypes: float64(2), int64(2), object(6)\n",
      "memory usage: 249.0+ KB\n"
     ]
    }
   ],
   "source": [
    "# Filter for duplicate rows and remove them, if there are any \n",
    "print(learnsql['url'].duplicated())\n",
    "learnsql['dupe'] = learnsql['url'].duplicated() \n",
    "learnsql=learnsql[learnsql['dupe']!=True].drop(columns='dupe')\n",
    "learnsql.info()"
   ]
  },
  {
   "cell_type": "code",
   "execution_count": 132,
   "id": "83848ea4-1bab-4b21-89ff-faf130c9717c",
   "metadata": {},
   "outputs": [
    {
     "name": "stdout",
     "output_type": "stream",
     "text": [
      "0     False\n",
      "1     False\n",
      "2     False\n",
      "3     False\n",
      "4     False\n",
      "      ...  \n",
      "95    False\n",
      "96    False\n",
      "97    False\n",
      "98    False\n",
      "99    False\n",
      "Name: url, Length: 4989, dtype: bool\n",
      "<class 'pandas.core.frame.DataFrame'>\n",
      "Int64Index: 4989 entries, 0 to 99\n",
      "Data columns (total 10 columns):\n",
      " #   Column                  Non-Null Count  Dtype  \n",
      "---  ------                  --------------  -----  \n",
      " 0   author                  4989 non-null   object \n",
      " 1   created_utc             4989 non-null   int64  \n",
      " 2   id                      4989 non-null   object \n",
      " 3   is_created_from_ads_ui  999 non-null    object \n",
      " 4   num_comments            4989 non-null   int64  \n",
      " 5   selftext                4963 non-null   object \n",
      " 6   title                   4989 non-null   object \n",
      " 7   total_awards_received   3592 non-null   float64\n",
      " 8   upvote_ratio            2294 non-null   float64\n",
      " 9   url                     4989 non-null   object \n",
      "dtypes: float64(2), int64(2), object(6)\n",
      "memory usage: 428.7+ KB\n"
     ]
    }
   ],
   "source": [
    "learnpy['dupe'] = learnpy['url'].duplicated().unique #no duplicate rows in data\n",
    "learnpy=learnpy[learnpy['dupe']!=True].drop(columns='dupe')\n",
    "learnpy.info()"
   ]
  },
  {
   "cell_type": "markdown",
   "id": "655e8eb7-aea8-4f2b-a266-797d6f538482",
   "metadata": {},
   "source": [
    "#### Checking datatypes"
   ]
  },
  {
   "cell_type": "code",
   "execution_count": 134,
   "id": "cd64d633-b3ea-468f-8b01-ab1306d09903",
   "metadata": {},
   "outputs": [
    {
     "data": {
      "text/plain": [
       "author                     object\n",
       "created_utc                 int64\n",
       "id                         object\n",
       "is_created_from_ads_ui     object\n",
       "num_comments                int64\n",
       "selftext                   object\n",
       "title                      object\n",
       "total_awards_received     float64\n",
       "upvote_ratio              float64\n",
       "url                        object\n",
       "dtype: object"
      ]
     },
     "execution_count": 134,
     "metadata": {},
     "output_type": "execute_result"
    }
   ],
   "source": [
    "learnsql.dtypes"
   ]
  },
  {
   "cell_type": "code",
   "execution_count": 135,
   "id": "e0dfde46-0282-42a1-b128-1f7300bcf338",
   "metadata": {},
   "outputs": [
    {
     "data": {
      "text/plain": [
       "author                     object\n",
       "created_utc                 int64\n",
       "id                         object\n",
       "is_created_from_ads_ui     object\n",
       "num_comments                int64\n",
       "selftext                   object\n",
       "title                      object\n",
       "total_awards_received     float64\n",
       "upvote_ratio              float64\n",
       "url                        object\n",
       "dtype: object"
      ]
     },
     "execution_count": 135,
     "metadata": {},
     "output_type": "execute_result"
    }
   ],
   "source": [
    "learnpy.dtypes"
   ]
  },
  {
   "cell_type": "markdown",
   "id": "745cff91-1312-4132-bc3b-60ff2e7dbfc1",
   "metadata": {},
   "source": [
    "#### Checking nulls"
   ]
  },
  {
   "cell_type": "code",
   "execution_count": 136,
   "id": "851aa436-6003-4b62-8e17-31a95da154de",
   "metadata": {},
   "outputs": [
    {
     "data": {
      "text/plain": [
       "author                       0\n",
       "created_utc                  0\n",
       "id                           0\n",
       "is_created_from_ads_ui    1867\n",
       "num_comments                 0\n",
       "selftext                   530\n",
       "title                        0\n",
       "total_awards_received      338\n",
       "upvote_ratio               912\n",
       "url                          0\n",
       "dtype: int64"
      ]
     },
     "execution_count": 136,
     "metadata": {},
     "output_type": "execute_result"
    }
   ],
   "source": [
    "learnsql.isna().sum()"
   ]
  },
  {
   "cell_type": "code",
   "execution_count": 137,
   "id": "e9420388-424a-4f29-a929-774336f39e55",
   "metadata": {},
   "outputs": [
    {
     "data": {
      "text/plain": [
       "author                       0\n",
       "created_utc                  0\n",
       "id                           0\n",
       "is_created_from_ads_ui    3990\n",
       "num_comments                 0\n",
       "selftext                    26\n",
       "title                        0\n",
       "total_awards_received     1397\n",
       "upvote_ratio              2695\n",
       "url                          0\n",
       "dtype: int64"
      ]
     },
     "execution_count": 137,
     "metadata": {},
     "output_type": "execute_result"
    }
   ],
   "source": [
    "learnpy.isna().sum()"
   ]
  },
  {
   "cell_type": "markdown",
   "id": "614ff959-60d2-450b-b1dd-8b68c69e0bed",
   "metadata": {},
   "source": [
    "#### Filter out ads?"
   ]
  },
  {
   "cell_type": "markdown",
   "id": "332c93c5-1402-4793-aaa6-ebceb1c1131b",
   "metadata": {},
   "source": [
    "After looking through the NaNs in the python dta, it appears there are no ads, so I'm dropping this column."
   ]
  },
  {
   "cell_type": "code",
   "execution_count": 139,
   "id": "21d1b582-8233-401b-afaf-bfab908c042e",
   "metadata": {},
   "outputs": [],
   "source": [
    "learnsql['is_created_from_ads_ui'].unique()\n",
    "learnpy['is_created_from_ads_ui'].unique()\n",
    "\n",
    "learnsql=learnsql.drop(columns='is_created_from_ads_ui')\n",
    "learnpy=learnpy.drop(columns='is_created_from_ads_ui')"
   ]
  },
  {
   "cell_type": "code",
   "execution_count": 140,
   "id": "61406f29-84d7-4979-a340-9b20eb21722b",
   "metadata": {},
   "outputs": [
    {
     "data": {
      "text/html": [
       "<div>\n",
       "<style scoped>\n",
       "    .dataframe tbody tr th:only-of-type {\n",
       "        vertical-align: middle;\n",
       "    }\n",
       "\n",
       "    .dataframe tbody tr th {\n",
       "        vertical-align: top;\n",
       "    }\n",
       "\n",
       "    .dataframe thead th {\n",
       "        text-align: right;\n",
       "    }\n",
       "</style>\n",
       "<table border=\"1\" class=\"dataframe\">\n",
       "  <thead>\n",
       "    <tr style=\"text-align: right;\">\n",
       "      <th></th>\n",
       "      <th>author</th>\n",
       "      <th>created_utc</th>\n",
       "      <th>id</th>\n",
       "      <th>num_comments</th>\n",
       "      <th>selftext</th>\n",
       "      <th>title</th>\n",
       "      <th>total_awards_received</th>\n",
       "      <th>upvote_ratio</th>\n",
       "      <th>url</th>\n",
       "    </tr>\n",
       "  </thead>\n",
       "  <tbody>\n",
       "    <tr>\n",
       "      <th>0</th>\n",
       "      <td>Blackwater_7</td>\n",
       "      <td>1553868389</td>\n",
       "      <td>b6xp20</td>\n",
       "      <td>15</td>\n",
       "      <td>I'm not really bad with bs but I believe this ...</td>\n",
       "      <td>How to solve this with selenium/beautifulsoup?</td>\n",
       "      <td>NaN</td>\n",
       "      <td>NaN</td>\n",
       "      <td>https://www.reddit.com/r/learnpython/comments/...</td>\n",
       "    </tr>\n",
       "    <tr>\n",
       "      <th>1</th>\n",
       "      <td>reebs12</td>\n",
       "      <td>1553869367</td>\n",
       "      <td>b6xvvj</td>\n",
       "      <td>2</td>\n",
       "      <td>&amp;amp;#x200B;\\n\\nHi, I have seen some tutorials...</td>\n",
       "      <td>How to wrap C++ code using C-API?</td>\n",
       "      <td>NaN</td>\n",
       "      <td>NaN</td>\n",
       "      <td>https://www.reddit.com/r/learnpython/comments/...</td>\n",
       "    </tr>\n",
       "    <tr>\n",
       "      <th>2</th>\n",
       "      <td>fatha731</td>\n",
       "      <td>1553870454</td>\n",
       "      <td>b6y3dl</td>\n",
       "      <td>2</td>\n",
       "      <td>Let's say `d1={'a':0, 'b':0}` and `d2={'a':1, ...</td>\n",
       "      <td>Add to existing value in dictionary</td>\n",
       "      <td>NaN</td>\n",
       "      <td>NaN</td>\n",
       "      <td>https://www.reddit.com/r/learnpython/comments/...</td>\n",
       "    </tr>\n",
       "    <tr>\n",
       "      <th>3</th>\n",
       "      <td>BrunooSardine</td>\n",
       "      <td>1553870535</td>\n",
       "      <td>b6y3xq</td>\n",
       "      <td>2</td>\n",
       "      <td>I'm trying to write some code that sends a SIP...</td>\n",
       "      <td>Python UDP socket timing out on recv despite r...</td>\n",
       "      <td>NaN</td>\n",
       "      <td>NaN</td>\n",
       "      <td>https://www.reddit.com/r/learnpython/comments/...</td>\n",
       "    </tr>\n",
       "    <tr>\n",
       "      <th>4</th>\n",
       "      <td>snip3r77</td>\n",
       "      <td>1553870967</td>\n",
       "      <td>b6y70j</td>\n",
       "      <td>5</td>\n",
       "      <td>[https://i.imgur.com/0mCtBFH.png](https://i.im...</td>\n",
       "      <td>regex pandas extract issue</td>\n",
       "      <td>NaN</td>\n",
       "      <td>NaN</td>\n",
       "      <td>https://www.reddit.com/r/learnpython/comments/...</td>\n",
       "    </tr>\n",
       "    <tr>\n",
       "      <th>...</th>\n",
       "      <td>...</td>\n",
       "      <td>...</td>\n",
       "      <td>...</td>\n",
       "      <td>...</td>\n",
       "      <td>...</td>\n",
       "      <td>...</td>\n",
       "      <td>...</td>\n",
       "      <td>...</td>\n",
       "      <td>...</td>\n",
       "    </tr>\n",
       "    <tr>\n",
       "      <th>95</th>\n",
       "      <td>wu78754</td>\n",
       "      <td>1519842946</td>\n",
       "      <td>80ydgz</td>\n",
       "      <td>10</td>\n",
       "      <td>I need to execute this command in python:\\nrea...</td>\n",
       "      <td>How do I program commands in python?</td>\n",
       "      <td>NaN</td>\n",
       "      <td>NaN</td>\n",
       "      <td>https://www.reddit.com/r/learnpython/comments/...</td>\n",
       "    </tr>\n",
       "    <tr>\n",
       "      <th>96</th>\n",
       "      <td>JavaJuke</td>\n",
       "      <td>1519843642</td>\n",
       "      <td>80ygxh</td>\n",
       "      <td>0</td>\n",
       "      <td>I'm currently trying to send the html produced...</td>\n",
       "      <td>plotly 2.4.1 offline send standalone html with...</td>\n",
       "      <td>NaN</td>\n",
       "      <td>NaN</td>\n",
       "      <td>https://www.reddit.com/r/learnpython/comments/...</td>\n",
       "    </tr>\n",
       "    <tr>\n",
       "      <th>97</th>\n",
       "      <td>scaredofrealworld</td>\n",
       "      <td>1519843891</td>\n",
       "      <td>80yi6j</td>\n",
       "      <td>2</td>\n",
       "      <td>import MySQLdb\\n    db=MySQLdb.connect(use...</td>\n",
       "      <td>How to check the status of executed query for ...</td>\n",
       "      <td>NaN</td>\n",
       "      <td>NaN</td>\n",
       "      <td>https://www.reddit.com/r/learnpython/comments/...</td>\n",
       "    </tr>\n",
       "    <tr>\n",
       "      <th>98</th>\n",
       "      <td>btwn_in_btwn</td>\n",
       "      <td>1519844252</td>\n",
       "      <td>80yjzx</td>\n",
       "      <td>12</td>\n",
       "      <td>I've developed a [disk wiping utility in Pytho...</td>\n",
       "      <td>Code Review/Suggestions Moving Forward</td>\n",
       "      <td>NaN</td>\n",
       "      <td>NaN</td>\n",
       "      <td>https://www.reddit.com/r/learnpython/comments/...</td>\n",
       "    </tr>\n",
       "    <tr>\n",
       "      <th>99</th>\n",
       "      <td>patarapolw</td>\n",
       "      <td>1519844500</td>\n",
       "      <td>80ylbt</td>\n",
       "      <td>2</td>\n",
       "      <td>Currently, I am structuring if like this, but ...</td>\n",
       "      <td>Python project directory structure with data f...</td>\n",
       "      <td>NaN</td>\n",
       "      <td>NaN</td>\n",
       "      <td>https://www.reddit.com/r/learnpython/comments/...</td>\n",
       "    </tr>\n",
       "  </tbody>\n",
       "</table>\n",
       "<p>1397 rows × 9 columns</p>\n",
       "</div>"
      ],
      "text/plain": [
       "               author  created_utc      id  num_comments  \\\n",
       "0        Blackwater_7   1553868389  b6xp20            15   \n",
       "1             reebs12   1553869367  b6xvvj             2   \n",
       "2            fatha731   1553870454  b6y3dl             2   \n",
       "3       BrunooSardine   1553870535  b6y3xq             2   \n",
       "4            snip3r77   1553870967  b6y70j             5   \n",
       "..                ...          ...     ...           ...   \n",
       "95            wu78754   1519842946  80ydgz            10   \n",
       "96           JavaJuke   1519843642  80ygxh             0   \n",
       "97  scaredofrealworld   1519843891  80yi6j             2   \n",
       "98       btwn_in_btwn   1519844252  80yjzx            12   \n",
       "99         patarapolw   1519844500  80ylbt             2   \n",
       "\n",
       "                                             selftext  \\\n",
       "0   I'm not really bad with bs but I believe this ...   \n",
       "1   &amp;#x200B;\\n\\nHi, I have seen some tutorials...   \n",
       "2   Let's say `d1={'a':0, 'b':0}` and `d2={'a':1, ...   \n",
       "3   I'm trying to write some code that sends a SIP...   \n",
       "4   [https://i.imgur.com/0mCtBFH.png](https://i.im...   \n",
       "..                                                ...   \n",
       "95  I need to execute this command in python:\\nrea...   \n",
       "96  I'm currently trying to send the html produced...   \n",
       "97      import MySQLdb\\n    db=MySQLdb.connect(use...   \n",
       "98  I've developed a [disk wiping utility in Pytho...   \n",
       "99  Currently, I am structuring if like this, but ...   \n",
       "\n",
       "                                                title  total_awards_received  \\\n",
       "0      How to solve this with selenium/beautifulsoup?                    NaN   \n",
       "1                   How to wrap C++ code using C-API?                    NaN   \n",
       "2                 Add to existing value in dictionary                    NaN   \n",
       "3   Python UDP socket timing out on recv despite r...                    NaN   \n",
       "4                          regex pandas extract issue                    NaN   \n",
       "..                                                ...                    ...   \n",
       "95               How do I program commands in python?                    NaN   \n",
       "96  plotly 2.4.1 offline send standalone html with...                    NaN   \n",
       "97  How to check the status of executed query for ...                    NaN   \n",
       "98             Code Review/Suggestions Moving Forward                    NaN   \n",
       "99  Python project directory structure with data f...                    NaN   \n",
       "\n",
       "    upvote_ratio                                                url  \n",
       "0            NaN  https://www.reddit.com/r/learnpython/comments/...  \n",
       "1            NaN  https://www.reddit.com/r/learnpython/comments/...  \n",
       "2            NaN  https://www.reddit.com/r/learnpython/comments/...  \n",
       "3            NaN  https://www.reddit.com/r/learnpython/comments/...  \n",
       "4            NaN  https://www.reddit.com/r/learnpython/comments/...  \n",
       "..           ...                                                ...  \n",
       "95           NaN  https://www.reddit.com/r/learnpython/comments/...  \n",
       "96           NaN  https://www.reddit.com/r/learnpython/comments/...  \n",
       "97           NaN  https://www.reddit.com/r/learnpython/comments/...  \n",
       "98           NaN  https://www.reddit.com/r/learnpython/comments/...  \n",
       "99           NaN  https://www.reddit.com/r/learnpython/comments/...  \n",
       "\n",
       "[1397 rows x 9 columns]"
      ]
     },
     "execution_count": 140,
     "metadata": {},
     "output_type": "execute_result"
    }
   ],
   "source": [
    "learnpy[learnpy['total_awards_received'].isna()]"
   ]
  },
  {
   "cell_type": "markdown",
   "id": "0dc5f36a-d368-4ba3-a3cb-8b121531590d",
   "metadata": {},
   "source": [
    "I went ahead and dropped all columns with NaN in place of selftext, seeing as that will be a major part of analysis"
   ]
  },
  {
   "cell_type": "code",
   "execution_count": 141,
   "id": "12697a38-052e-4d88-aa23-392585773119",
   "metadata": {},
   "outputs": [],
   "source": [
    "learnpy = learnpy[learnpy['selftext'].notna()]\n",
    "learnsql = learnsql[learnsql['selftext'].notna()]"
   ]
  },
  {
   "cell_type": "code",
   "execution_count": 142,
   "id": "e3ffac22-0477-4b9f-bbcf-cd7efb587caa",
   "metadata": {},
   "outputs": [
    {
     "data": {
      "text/plain": [
       "author                      0\n",
       "created_utc                 0\n",
       "id                          0\n",
       "num_comments                0\n",
       "selftext                    0\n",
       "title                       0\n",
       "total_awards_received    1379\n",
       "upvote_ratio             2670\n",
       "url                         0\n",
       "dtype: int64"
      ]
     },
     "execution_count": 142,
     "metadata": {},
     "output_type": "execute_result"
    }
   ],
   "source": [
    "learnpy.isna().sum()"
   ]
  },
  {
   "cell_type": "markdown",
   "id": "d17e003f-282b-4492-bd5c-e2108b34ae7a",
   "metadata": {},
   "source": [
    "Total awards recieved and update ratio are columns I pulled in for fun, so I'm not too concerned about nulls.\n",
    "Most posts that don't get a lot of attention will have an upvote ratio of 1, since every post gets one automated upvote on behalf of the OP.\n",
    "Q2, Q3, Q4, mean, and max all being 1 reflect this. \n",
    "\n",
    "I imputed all null values with 1 for this column."
   ]
  },
  {
   "cell_type": "code",
   "execution_count": 143,
   "id": "fcb0ca23-b7bc-4f9c-82f1-2ec10b0e7515",
   "metadata": {},
   "outputs": [
    {
     "data": {
      "text/plain": [
       "count    2293.000000\n",
       "mean        0.983297\n",
       "std         0.083891\n",
       "min         0.110000\n",
       "25%         1.000000\n",
       "50%         1.000000\n",
       "75%         1.000000\n",
       "max         1.000000\n",
       "Name: upvote_ratio, dtype: float64"
      ]
     },
     "execution_count": 143,
     "metadata": {},
     "output_type": "execute_result"
    }
   ],
   "source": [
    "learnpy['upvote_ratio'].describe()"
   ]
  },
  {
   "cell_type": "code",
   "execution_count": 144,
   "id": "008bd3ac-24d7-4a9b-a1be-2a09992a54bb",
   "metadata": {
    "tags": []
   },
   "outputs": [],
   "source": [
    "learnpy['upvote_ratio'] = learnpy['upvote_ratio'].fillna(1)\n",
    "learnsql['upvote_ratio'] = learnsql['upvote_ratio'].fillna(1)"
   ]
  },
  {
   "cell_type": "markdown",
   "id": "9801c476-0cd5-4ddb-8e46-df0dc7ff9673",
   "metadata": {},
   "source": [
    "My total_rewards_received column isn't doing great: I only have record of 4 posts getting awarded.\n",
    "Since I pulled data from up to 50 months ago, I think there should be more awards in the dataset. I dropped this column."
   ]
  },
  {
   "cell_type": "code",
   "execution_count": 151,
   "id": "d4491498-6613-4366-a316-28ef14debfb1",
   "metadata": {},
   "outputs": [],
   "source": [
    "learnpy[learnpy['total_awards_received']>0]\n",
    "learnpy = learnpy.drop(columns='total_awards_received')\n",
    "learnsql = learnsql.drop(columns='total_awards_received')"
   ]
  },
  {
   "cell_type": "markdown",
   "id": "010484da-8fb2-46be-b3b6-2d1b59eb1d70",
   "metadata": {},
   "source": [
    "## Exploratory Data Analysis"
   ]
  },
  {
   "cell_type": "code",
   "execution_count": null,
   "id": "48ea8149",
   "metadata": {},
   "outputs": [],
   "source": [
    "#### H4 Chart title md"
   ]
  },
  {
   "cell_type": "code",
   "execution_count": null,
   "id": "28ed81e9",
   "metadata": {},
   "outputs": [
    {
     "ename": "NameError",
     "evalue": "name 'learnpython' is not defined",
     "output_type": "error",
     "traceback": [
      "\u001b[0;31m---------------------------------------------------------------------------\u001b[0m",
      "\u001b[0;31mNameError\u001b[0m                                 Traceback (most recent call last)",
      "\u001b[0;32m/var/folders/zd/6jtvs5r55vvdpnl2c2q7kv0m0000gn/T/ipykernel_987/2759693124.py\u001b[0m in \u001b[0;36m<module>\u001b[0;34m\u001b[0m\n\u001b[0;32m----> 1\u001b[0;31m \u001b[0mlearnpython\u001b[0m\u001b[0;34m[\u001b[0m\u001b[0mselftext\u001b[0m\u001b[0;34m]\u001b[0m\u001b[0;34m.\u001b[0m\u001b[0mlen\u001b[0m\u001b[0;34m(\u001b[0m\u001b[0;34m)\u001b[0m\u001b[0;34m.\u001b[0m\u001b[0mmean\u001b[0m\u001b[0;34m(\u001b[0m\u001b[0;34m)\u001b[0m\u001b[0;34m\u001b[0m\u001b[0;34m\u001b[0m\u001b[0m\n\u001b[0m",
      "\u001b[0;31mNameError\u001b[0m: name 'learnpython' is not defined"
     ]
    }
   ],
   "source": [
    "learnpython[selftext].len().mean()"
   ]
  },
  {
   "cell_type": "code",
   "execution_count": null,
   "id": "aa571ffc",
   "metadata": {},
   "outputs": [],
   "source": [
    "#### H4 Chart title md"
   ]
  },
  {
   "cell_type": "code",
   "execution_count": 90,
   "id": "68536d20",
   "metadata": {},
   "outputs": [
    {
     "ename": "IndexingError",
     "evalue": "Too many indexers",
     "output_type": "error",
     "traceback": [
      "\u001b[0;31m---------------------------------------------------------------------------\u001b[0m",
      "\u001b[0;31mIndexingError\u001b[0m                             Traceback (most recent call last)",
      "\u001b[0;32m/var/folders/zd/6jtvs5r55vvdpnl2c2q7kv0m0000gn/T/ipykernel_1468/1847740489.py\u001b[0m in \u001b[0;36m<module>\u001b[0;34m\u001b[0m\n\u001b[1;32m      1\u001b[0m \u001b[0;31m# chart\u001b[0m\u001b[0;34m\u001b[0m\u001b[0;34m\u001b[0m\u001b[0m\n\u001b[0;32m----> 2\u001b[0;31m \u001b[0mpyppl\u001b[0m\u001b[0;34m.\u001b[0m\u001b[0miloc\u001b[0m\u001b[0;34m[\u001b[0m\u001b[0;36m1\u001b[0m\u001b[0;34m,\u001b[0m\u001b[0;36m2\u001b[0m\u001b[0;34m]\u001b[0m\u001b[0;34m\u001b[0m\u001b[0;34m\u001b[0m\u001b[0m\n\u001b[0m",
      "\u001b[0;32m/usr/local/anaconda3/lib/python3.9/site-packages/pandas/core/indexing.py\u001b[0m in \u001b[0;36m__getitem__\u001b[0;34m(self, key)\u001b[0m\n\u001b[1;32m    923\u001b[0m                 \u001b[0;32mwith\u001b[0m \u001b[0msuppress\u001b[0m\u001b[0;34m(\u001b[0m\u001b[0mKeyError\u001b[0m\u001b[0;34m,\u001b[0m \u001b[0mIndexError\u001b[0m\u001b[0;34m)\u001b[0m\u001b[0;34m:\u001b[0m\u001b[0;34m\u001b[0m\u001b[0;34m\u001b[0m\u001b[0m\n\u001b[1;32m    924\u001b[0m                     \u001b[0;32mreturn\u001b[0m \u001b[0mself\u001b[0m\u001b[0;34m.\u001b[0m\u001b[0mobj\u001b[0m\u001b[0;34m.\u001b[0m\u001b[0m_get_value\u001b[0m\u001b[0;34m(\u001b[0m\u001b[0;34m*\u001b[0m\u001b[0mkey\u001b[0m\u001b[0;34m,\u001b[0m \u001b[0mtakeable\u001b[0m\u001b[0;34m=\u001b[0m\u001b[0mself\u001b[0m\u001b[0;34m.\u001b[0m\u001b[0m_takeable\u001b[0m\u001b[0;34m)\u001b[0m\u001b[0;34m\u001b[0m\u001b[0;34m\u001b[0m\u001b[0m\n\u001b[0;32m--> 925\u001b[0;31m             \u001b[0;32mreturn\u001b[0m \u001b[0mself\u001b[0m\u001b[0;34m.\u001b[0m\u001b[0m_getitem_tuple\u001b[0m\u001b[0;34m(\u001b[0m\u001b[0mkey\u001b[0m\u001b[0;34m)\u001b[0m\u001b[0;34m\u001b[0m\u001b[0;34m\u001b[0m\u001b[0m\n\u001b[0m\u001b[1;32m    926\u001b[0m         \u001b[0;32melse\u001b[0m\u001b[0;34m:\u001b[0m\u001b[0;34m\u001b[0m\u001b[0;34m\u001b[0m\u001b[0m\n\u001b[1;32m    927\u001b[0m             \u001b[0;31m# we by definition only have the 0th axis\u001b[0m\u001b[0;34m\u001b[0m\u001b[0;34m\u001b[0m\u001b[0m\n",
      "\u001b[0;32m/usr/local/anaconda3/lib/python3.9/site-packages/pandas/core/indexing.py\u001b[0m in \u001b[0;36m_getitem_tuple\u001b[0;34m(self, tup)\u001b[0m\n\u001b[1;32m   1504\u001b[0m     \u001b[0;32mdef\u001b[0m \u001b[0m_getitem_tuple\u001b[0m\u001b[0;34m(\u001b[0m\u001b[0mself\u001b[0m\u001b[0;34m,\u001b[0m \u001b[0mtup\u001b[0m\u001b[0;34m:\u001b[0m \u001b[0mtuple\u001b[0m\u001b[0;34m)\u001b[0m\u001b[0;34m:\u001b[0m\u001b[0;34m\u001b[0m\u001b[0;34m\u001b[0m\u001b[0m\n\u001b[1;32m   1505\u001b[0m \u001b[0;34m\u001b[0m\u001b[0m\n\u001b[0;32m-> 1506\u001b[0;31m         \u001b[0mself\u001b[0m\u001b[0;34m.\u001b[0m\u001b[0m_has_valid_tuple\u001b[0m\u001b[0;34m(\u001b[0m\u001b[0mtup\u001b[0m\u001b[0;34m)\u001b[0m\u001b[0;34m\u001b[0m\u001b[0;34m\u001b[0m\u001b[0m\n\u001b[0m\u001b[1;32m   1507\u001b[0m         \u001b[0;32mwith\u001b[0m \u001b[0msuppress\u001b[0m\u001b[0;34m(\u001b[0m\u001b[0mIndexingError\u001b[0m\u001b[0;34m)\u001b[0m\u001b[0;34m:\u001b[0m\u001b[0;34m\u001b[0m\u001b[0;34m\u001b[0m\u001b[0m\n\u001b[1;32m   1508\u001b[0m             \u001b[0;32mreturn\u001b[0m \u001b[0mself\u001b[0m\u001b[0;34m.\u001b[0m\u001b[0m_getitem_lowerdim\u001b[0m\u001b[0;34m(\u001b[0m\u001b[0mtup\u001b[0m\u001b[0;34m)\u001b[0m\u001b[0;34m\u001b[0m\u001b[0;34m\u001b[0m\u001b[0m\n",
      "\u001b[0;32m/usr/local/anaconda3/lib/python3.9/site-packages/pandas/core/indexing.py\u001b[0m in \u001b[0;36m_has_valid_tuple\u001b[0;34m(self, key)\u001b[0m\n\u001b[1;32m    749\u001b[0m         \u001b[0mCheck\u001b[0m \u001b[0mthe\u001b[0m \u001b[0mkey\u001b[0m \u001b[0;32mfor\u001b[0m \u001b[0mvalid\u001b[0m \u001b[0mkeys\u001b[0m \u001b[0macross\u001b[0m \u001b[0mmy\u001b[0m \u001b[0mindexer\u001b[0m\u001b[0;34m.\u001b[0m\u001b[0;34m\u001b[0m\u001b[0;34m\u001b[0m\u001b[0m\n\u001b[1;32m    750\u001b[0m         \"\"\"\n\u001b[0;32m--> 751\u001b[0;31m         \u001b[0mself\u001b[0m\u001b[0;34m.\u001b[0m\u001b[0m_validate_key_length\u001b[0m\u001b[0;34m(\u001b[0m\u001b[0mkey\u001b[0m\u001b[0;34m)\u001b[0m\u001b[0;34m\u001b[0m\u001b[0;34m\u001b[0m\u001b[0m\n\u001b[0m\u001b[1;32m    752\u001b[0m         \u001b[0;32mfor\u001b[0m \u001b[0mi\u001b[0m\u001b[0;34m,\u001b[0m \u001b[0mk\u001b[0m \u001b[0;32min\u001b[0m \u001b[0menumerate\u001b[0m\u001b[0;34m(\u001b[0m\u001b[0mkey\u001b[0m\u001b[0;34m)\u001b[0m\u001b[0;34m:\u001b[0m\u001b[0;34m\u001b[0m\u001b[0;34m\u001b[0m\u001b[0m\n\u001b[1;32m    753\u001b[0m             \u001b[0;32mtry\u001b[0m\u001b[0;34m:\u001b[0m\u001b[0;34m\u001b[0m\u001b[0;34m\u001b[0m\u001b[0m\n",
      "\u001b[0;32m/usr/local/anaconda3/lib/python3.9/site-packages/pandas/core/indexing.py\u001b[0m in \u001b[0;36m_validate_key_length\u001b[0;34m(self, key)\u001b[0m\n\u001b[1;32m    790\u001b[0m     \u001b[0;32mdef\u001b[0m \u001b[0m_validate_key_length\u001b[0m\u001b[0;34m(\u001b[0m\u001b[0mself\u001b[0m\u001b[0;34m,\u001b[0m \u001b[0mkey\u001b[0m\u001b[0;34m:\u001b[0m \u001b[0mSequence\u001b[0m\u001b[0;34m[\u001b[0m\u001b[0mAny\u001b[0m\u001b[0;34m]\u001b[0m\u001b[0;34m)\u001b[0m \u001b[0;34m->\u001b[0m \u001b[0;32mNone\u001b[0m\u001b[0;34m:\u001b[0m\u001b[0;34m\u001b[0m\u001b[0;34m\u001b[0m\u001b[0m\n\u001b[1;32m    791\u001b[0m         \u001b[0;32mif\u001b[0m \u001b[0mlen\u001b[0m\u001b[0;34m(\u001b[0m\u001b[0mkey\u001b[0m\u001b[0;34m)\u001b[0m \u001b[0;34m>\u001b[0m \u001b[0mself\u001b[0m\u001b[0;34m.\u001b[0m\u001b[0mndim\u001b[0m\u001b[0;34m:\u001b[0m\u001b[0;34m\u001b[0m\u001b[0;34m\u001b[0m\u001b[0m\n\u001b[0;32m--> 792\u001b[0;31m             \u001b[0;32mraise\u001b[0m \u001b[0mIndexingError\u001b[0m\u001b[0;34m(\u001b[0m\u001b[0;34m\"Too many indexers\"\u001b[0m\u001b[0;34m)\u001b[0m\u001b[0;34m\u001b[0m\u001b[0;34m\u001b[0m\u001b[0m\n\u001b[0m\u001b[1;32m    793\u001b[0m \u001b[0;34m\u001b[0m\u001b[0m\n\u001b[1;32m    794\u001b[0m     \u001b[0;32mdef\u001b[0m \u001b[0m_getitem_tuple_same_dim\u001b[0m\u001b[0;34m(\u001b[0m\u001b[0mself\u001b[0m\u001b[0;34m,\u001b[0m \u001b[0mtup\u001b[0m\u001b[0;34m:\u001b[0m \u001b[0mtuple\u001b[0m\u001b[0;34m)\u001b[0m\u001b[0;34m:\u001b[0m\u001b[0;34m\u001b[0m\u001b[0;34m\u001b[0m\u001b[0m\n",
      "\u001b[0;31mIndexingError\u001b[0m: Too many indexers"
     ]
    }
   ],
   "source": [
    "# chart\n",
    "pyppl.iloc[1,2]"
   ]
  },
  {
   "cell_type": "code",
   "execution_count": 81,
   "id": "106411fb-b840-4ac4-9ffb-38cb450673a0",
   "metadata": {},
   "outputs": [
    {
     "ename": "IndexingError",
     "evalue": "Too many indexers",
     "output_type": "error",
     "traceback": [
      "\u001b[0;31m---------------------------------------------------------------------------\u001b[0m",
      "\u001b[0;31mIndexingError\u001b[0m                             Traceback (most recent call last)",
      "\u001b[0;32m/var/folders/zd/6jtvs5r55vvdpnl2c2q7kv0m0000gn/T/ipykernel_1468/1963972537.py\u001b[0m in \u001b[0;36m<module>\u001b[0;34m\u001b[0m\n\u001b[1;32m      4\u001b[0m \u001b[0;34m\u001b[0m\u001b[0m\n\u001b[1;32m      5\u001b[0m \u001b[0;34m\u001b[0m\u001b[0m\n\u001b[0;32m----> 6\u001b[0;31m \u001b[0mplt\u001b[0m\u001b[0;34m.\u001b[0m\u001b[0mbar\u001b[0m\u001b[0;34m(\u001b[0m\u001b[0mx\u001b[0m\u001b[0;34m=\u001b[0m\u001b[0mpyppl\u001b[0m\u001b[0;34m.\u001b[0m\u001b[0miloc\u001b[0m\u001b[0;34m[\u001b[0m\u001b[0;34m:\u001b[0m\u001b[0;34m,\u001b[0m \u001b[0;36m0\u001b[0m\u001b[0;34m]\u001b[0m\u001b[0;34m,\u001b[0m \u001b[0mheight\u001b[0m\u001b[0;34m=\u001b[0m\u001b[0mpyppl\u001b[0m\u001b[0;34m.\u001b[0m\u001b[0miloc\u001b[0m\u001b[0;34m[\u001b[0m\u001b[0;34m:\u001b[0m\u001b[0;34m,\u001b[0m \u001b[0;36m1\u001b[0m\u001b[0;34m]\u001b[0m\u001b[0;34m)\u001b[0m\u001b[0;34m\u001b[0m\u001b[0;34m\u001b[0m\u001b[0m\n\u001b[0m\u001b[1;32m      7\u001b[0m \u001b[0;31m# Most active commenters\u001b[0m\u001b[0;34m\u001b[0m\u001b[0;34m\u001b[0m\u001b[0m\n",
      "\u001b[0;32m/usr/local/anaconda3/lib/python3.9/site-packages/pandas/core/indexing.py\u001b[0m in \u001b[0;36m__getitem__\u001b[0;34m(self, key)\u001b[0m\n\u001b[1;32m    923\u001b[0m                 \u001b[0;32mwith\u001b[0m \u001b[0msuppress\u001b[0m\u001b[0;34m(\u001b[0m\u001b[0mKeyError\u001b[0m\u001b[0;34m,\u001b[0m \u001b[0mIndexError\u001b[0m\u001b[0;34m)\u001b[0m\u001b[0;34m:\u001b[0m\u001b[0;34m\u001b[0m\u001b[0;34m\u001b[0m\u001b[0m\n\u001b[1;32m    924\u001b[0m                     \u001b[0;32mreturn\u001b[0m \u001b[0mself\u001b[0m\u001b[0;34m.\u001b[0m\u001b[0mobj\u001b[0m\u001b[0;34m.\u001b[0m\u001b[0m_get_value\u001b[0m\u001b[0;34m(\u001b[0m\u001b[0;34m*\u001b[0m\u001b[0mkey\u001b[0m\u001b[0;34m,\u001b[0m \u001b[0mtakeable\u001b[0m\u001b[0;34m=\u001b[0m\u001b[0mself\u001b[0m\u001b[0;34m.\u001b[0m\u001b[0m_takeable\u001b[0m\u001b[0;34m)\u001b[0m\u001b[0;34m\u001b[0m\u001b[0;34m\u001b[0m\u001b[0m\n\u001b[0;32m--> 925\u001b[0;31m             \u001b[0;32mreturn\u001b[0m \u001b[0mself\u001b[0m\u001b[0;34m.\u001b[0m\u001b[0m_getitem_tuple\u001b[0m\u001b[0;34m(\u001b[0m\u001b[0mkey\u001b[0m\u001b[0;34m)\u001b[0m\u001b[0;34m\u001b[0m\u001b[0;34m\u001b[0m\u001b[0m\n\u001b[0m\u001b[1;32m    926\u001b[0m         \u001b[0;32melse\u001b[0m\u001b[0;34m:\u001b[0m\u001b[0;34m\u001b[0m\u001b[0;34m\u001b[0m\u001b[0m\n\u001b[1;32m    927\u001b[0m             \u001b[0;31m# we by definition only have the 0th axis\u001b[0m\u001b[0;34m\u001b[0m\u001b[0;34m\u001b[0m\u001b[0m\n",
      "\u001b[0;32m/usr/local/anaconda3/lib/python3.9/site-packages/pandas/core/indexing.py\u001b[0m in \u001b[0;36m_getitem_tuple\u001b[0;34m(self, tup)\u001b[0m\n\u001b[1;32m   1504\u001b[0m     \u001b[0;32mdef\u001b[0m \u001b[0m_getitem_tuple\u001b[0m\u001b[0;34m(\u001b[0m\u001b[0mself\u001b[0m\u001b[0;34m,\u001b[0m \u001b[0mtup\u001b[0m\u001b[0;34m:\u001b[0m \u001b[0mtuple\u001b[0m\u001b[0;34m)\u001b[0m\u001b[0;34m:\u001b[0m\u001b[0;34m\u001b[0m\u001b[0;34m\u001b[0m\u001b[0m\n\u001b[1;32m   1505\u001b[0m \u001b[0;34m\u001b[0m\u001b[0m\n\u001b[0;32m-> 1506\u001b[0;31m         \u001b[0mself\u001b[0m\u001b[0;34m.\u001b[0m\u001b[0m_has_valid_tuple\u001b[0m\u001b[0;34m(\u001b[0m\u001b[0mtup\u001b[0m\u001b[0;34m)\u001b[0m\u001b[0;34m\u001b[0m\u001b[0;34m\u001b[0m\u001b[0m\n\u001b[0m\u001b[1;32m   1507\u001b[0m         \u001b[0;32mwith\u001b[0m \u001b[0msuppress\u001b[0m\u001b[0;34m(\u001b[0m\u001b[0mIndexingError\u001b[0m\u001b[0;34m)\u001b[0m\u001b[0;34m:\u001b[0m\u001b[0;34m\u001b[0m\u001b[0;34m\u001b[0m\u001b[0m\n\u001b[1;32m   1508\u001b[0m             \u001b[0;32mreturn\u001b[0m \u001b[0mself\u001b[0m\u001b[0;34m.\u001b[0m\u001b[0m_getitem_lowerdim\u001b[0m\u001b[0;34m(\u001b[0m\u001b[0mtup\u001b[0m\u001b[0;34m)\u001b[0m\u001b[0;34m\u001b[0m\u001b[0;34m\u001b[0m\u001b[0m\n",
      "\u001b[0;32m/usr/local/anaconda3/lib/python3.9/site-packages/pandas/core/indexing.py\u001b[0m in \u001b[0;36m_has_valid_tuple\u001b[0;34m(self, key)\u001b[0m\n\u001b[1;32m    749\u001b[0m         \u001b[0mCheck\u001b[0m \u001b[0mthe\u001b[0m \u001b[0mkey\u001b[0m \u001b[0;32mfor\u001b[0m \u001b[0mvalid\u001b[0m \u001b[0mkeys\u001b[0m \u001b[0macross\u001b[0m \u001b[0mmy\u001b[0m \u001b[0mindexer\u001b[0m\u001b[0;34m.\u001b[0m\u001b[0;34m\u001b[0m\u001b[0;34m\u001b[0m\u001b[0m\n\u001b[1;32m    750\u001b[0m         \"\"\"\n\u001b[0;32m--> 751\u001b[0;31m         \u001b[0mself\u001b[0m\u001b[0;34m.\u001b[0m\u001b[0m_validate_key_length\u001b[0m\u001b[0;34m(\u001b[0m\u001b[0mkey\u001b[0m\u001b[0;34m)\u001b[0m\u001b[0;34m\u001b[0m\u001b[0;34m\u001b[0m\u001b[0m\n\u001b[0m\u001b[1;32m    752\u001b[0m         \u001b[0;32mfor\u001b[0m \u001b[0mi\u001b[0m\u001b[0;34m,\u001b[0m \u001b[0mk\u001b[0m \u001b[0;32min\u001b[0m \u001b[0menumerate\u001b[0m\u001b[0;34m(\u001b[0m\u001b[0mkey\u001b[0m\u001b[0;34m)\u001b[0m\u001b[0;34m:\u001b[0m\u001b[0;34m\u001b[0m\u001b[0;34m\u001b[0m\u001b[0m\n\u001b[1;32m    753\u001b[0m             \u001b[0;32mtry\u001b[0m\u001b[0;34m:\u001b[0m\u001b[0;34m\u001b[0m\u001b[0;34m\u001b[0m\u001b[0m\n",
      "\u001b[0;32m/usr/local/anaconda3/lib/python3.9/site-packages/pandas/core/indexing.py\u001b[0m in \u001b[0;36m_validate_key_length\u001b[0;34m(self, key)\u001b[0m\n\u001b[1;32m    790\u001b[0m     \u001b[0;32mdef\u001b[0m \u001b[0m_validate_key_length\u001b[0m\u001b[0;34m(\u001b[0m\u001b[0mself\u001b[0m\u001b[0;34m,\u001b[0m \u001b[0mkey\u001b[0m\u001b[0;34m:\u001b[0m \u001b[0mSequence\u001b[0m\u001b[0;34m[\u001b[0m\u001b[0mAny\u001b[0m\u001b[0;34m]\u001b[0m\u001b[0;34m)\u001b[0m \u001b[0;34m->\u001b[0m \u001b[0;32mNone\u001b[0m\u001b[0;34m:\u001b[0m\u001b[0;34m\u001b[0m\u001b[0;34m\u001b[0m\u001b[0m\n\u001b[1;32m    791\u001b[0m         \u001b[0;32mif\u001b[0m \u001b[0mlen\u001b[0m\u001b[0;34m(\u001b[0m\u001b[0mkey\u001b[0m\u001b[0;34m)\u001b[0m \u001b[0;34m>\u001b[0m \u001b[0mself\u001b[0m\u001b[0;34m.\u001b[0m\u001b[0mndim\u001b[0m\u001b[0;34m:\u001b[0m\u001b[0;34m\u001b[0m\u001b[0;34m\u001b[0m\u001b[0m\n\u001b[0;32m--> 792\u001b[0;31m             \u001b[0;32mraise\u001b[0m \u001b[0mIndexingError\u001b[0m\u001b[0;34m(\u001b[0m\u001b[0;34m\"Too many indexers\"\u001b[0m\u001b[0;34m)\u001b[0m\u001b[0;34m\u001b[0m\u001b[0;34m\u001b[0m\u001b[0m\n\u001b[0m\u001b[1;32m    793\u001b[0m \u001b[0;34m\u001b[0m\u001b[0m\n\u001b[1;32m    794\u001b[0m     \u001b[0;32mdef\u001b[0m \u001b[0m_getitem_tuple_same_dim\u001b[0m\u001b[0;34m(\u001b[0m\u001b[0mself\u001b[0m\u001b[0;34m,\u001b[0m \u001b[0mtup\u001b[0m\u001b[0;34m:\u001b[0m \u001b[0mtuple\u001b[0m\u001b[0;34m)\u001b[0m\u001b[0;34m:\u001b[0m\u001b[0;34m\u001b[0m\u001b[0;34m\u001b[0m\u001b[0m\n",
      "\u001b[0;31mIndexingError\u001b[0m: Too many indexers"
     ]
    }
   ],
   "source": [
    "# Most prolific authors\n",
    "pyppl = learnpy.groupby('author')['url'].count().sort_values(ascending=False).head(10)\n",
    "sqlppl = learnsql.groupby('author')['url'].count().sort_values(ascending=False).head(10)\n",
    "\n",
    "\n",
    "plt.bar(x=pyppl.iloc[:, 0], height=pyppl.iloc[:, 1])\n",
    "# Most active commenters"
   ]
  },
  {
   "cell_type": "code",
   "execution_count": null,
   "id": "82976b57-35c2-457e-9748-fd5c9e810c01",
   "metadata": {},
   "outputs": [],
   "source": [
    "# H3 Export df"
   ]
  },
  {
   "cell_type": "code",
   "execution_count": 64,
   "id": "832db427",
   "metadata": {},
   "outputs": [],
   "source": [
    "# export df\n",
    "learnpython.to_csv('learnpython.csv')"
   ]
  },
  {
   "cell_type": "code",
   "execution_count": 65,
   "id": "b6c5055a-bdd2-4d7e-83ce-a483a47a8bb0",
   "metadata": {},
   "outputs": [],
   "source": [
    "learnsql.to_csv('learnsql.csv')"
   ]
  },
  {
   "cell_type": "code",
   "execution_count": null,
   "id": "5c417c29-d6de-4abb-bdd6-17ea3eb2a566",
   "metadata": {},
   "outputs": [],
   "source": []
  }
 ],
 "metadata": {
  "kernelspec": {
   "display_name": "Python 3 (ipykernel)",
   "language": "python",
   "name": "python3"
  },
  "language_info": {
   "codemirror_mode": {
    "name": "ipython",
    "version": 3
   },
   "file_extension": ".py",
   "mimetype": "text/x-python",
   "name": "python",
   "nbconvert_exporter": "python",
   "pygments_lexer": "ipython3",
   "version": "3.9.7"
  }
 },
 "nbformat": 4,
 "nbformat_minor": 5
}
