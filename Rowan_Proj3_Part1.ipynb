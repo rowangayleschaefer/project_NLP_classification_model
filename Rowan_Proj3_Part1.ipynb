{
 "cells": [
  {
   "cell_type": "code",
   "execution_count": null,
   "id": "7bab0adf",
   "metadata": {},
   "outputs": [],
   "source": [
    "# H1 Title "
   ]
  },
  {
   "cell_type": "code",
   "execution_count": null,
   "id": "8d6b45ca",
   "metadata": {},
   "outputs": [],
   "source": [
    "# H2 Data Collection, Cleaning, & EDA"
   ]
  },
  {
   "cell_type": "code",
   "execution_count": null,
   "id": "8a919a59",
   "metadata": {},
   "outputs": [],
   "source": [
    "# Picture"
   ]
  },
  {
   "cell_type": "code",
   "execution_count": null,
   "id": "d41af9b4",
   "metadata": {},
   "outputs": [],
   "source": [
    "# H4 Problem statement"
   ]
  },
  {
   "cell_type": "code",
   "execution_count": null,
   "id": "305c503d",
   "metadata": {},
   "outputs": [],
   "source": [
    "# Problem Statement"
   ]
  },
  {
   "cell_type": "code",
   "execution_count": null,
   "id": "9c0067be",
   "metadata": {},
   "outputs": [],
   "source": [
    "# H4 Data info"
   ]
  },
  {
   "cell_type": "code",
   "execution_count": null,
   "id": "d4426710",
   "metadata": {},
   "outputs": [],
   "source": [
    "# Data info and background "
   ]
  },
  {
   "cell_type": "code",
   "execution_count": null,
   "id": "21ec3b57",
   "metadata": {},
   "outputs": [],
   "source": [
    "# H4  Subreddit 1 "
   ]
  },
  {
   "cell_type": "code",
   "execution_count": null,
   "id": "9ce819d0",
   "metadata": {},
   "outputs": [],
   "source": [
    "# Subreddit 1 info"
   ]
  },
  {
   "cell_type": "code",
   "execution_count": null,
   "id": "9e7a0434",
   "metadata": {},
   "outputs": [],
   "source": [
    "# H4 Subreddit 2 "
   ]
  },
  {
   "cell_type": "code",
   "execution_count": null,
   "id": "8e4f6c11",
   "metadata": {},
   "outputs": [],
   "source": [
    "# Subreddit 2 info"
   ]
  },
  {
   "cell_type": "code",
   "execution_count": null,
   "id": "252ec6ac",
   "metadata": {},
   "outputs": [],
   "source": [
    "# Research questions"
   ]
  },
  {
   "cell_type": "code",
   "execution_count": null,
   "id": "0a09a5d3",
   "metadata": {},
   "outputs": [],
   "source": [
    "# H2 Data Collection"
   ]
  },
  {
   "cell_type": "code",
   "execution_count": null,
   "id": "cc41b1f0",
   "metadata": {},
   "outputs": [],
   "source": [
    "# H4 imports"
   ]
  },
  {
   "cell_type": "code",
   "execution_count": null,
   "id": "664bd2f4",
   "metadata": {},
   "outputs": [],
   "source": [
    "import requests\n",
    "import pandas as pd"
   ]
  },
  {
   "cell_type": "code",
   "execution_count": null,
   "id": "2fb1a681",
   "metadata": {},
   "outputs": [],
   "source": [
    "# Scrape "
   ]
  },
  {
   "cell_type": "code",
   "execution_count": null,
   "id": "8d6b45ca",
   "metadata": {},
   "outputs": [],
   "source": [
    "# Scrape"
   ]
  },
  {
   "cell_type": "code",
   "execution_count": null,
   "id": "177d94b6",
   "metadata": {},
   "outputs": [],
   "source": [
    "# Scrape"
   ]
  },
  {
   "cell_type": "code",
   "execution_count": null,
   "id": "e9d8fe13",
   "metadata": {},
   "outputs": [],
   "source": [
    "# Scrape"
   ]
  },
  {
   "cell_type": "code",
   "execution_count": null,
   "id": "abb44335",
   "metadata": {},
   "outputs": [],
   "source": [
    "# Scrape"
   ]
  },
  {
   "cell_type": "code",
   "execution_count": null,
   "id": "c4b36e77",
   "metadata": {},
   "outputs": [],
   "source": [
    "# Scrape/wrangle"
   ]
  },
  {
   "cell_type": "code",
   "execution_count": null,
   "id": "4b4904b9",
   "metadata": {},
   "outputs": [],
   "source": [
    "# Make df"
   ]
  },
  {
   "cell_type": "code",
   "execution_count": null,
   "id": "de93f39e",
   "metadata": {},
   "outputs": [],
   "source": [
    "# H2 Cleaning "
   ]
  },
  {
   "cell_type": "code",
   "execution_count": null,
   "id": "f0d7b9f0",
   "metadata": {},
   "outputs": [],
   "source": [
    "# H4 imports"
   ]
  },
  {
   "cell_type": "code",
   "execution_count": null,
   "id": "fe863496",
   "metadata": {},
   "outputs": [],
   "source": [
    "# Imports"
   ]
  },
  {
   "cell_type": "code",
   "execution_count": null,
   "id": "441f12c6",
   "metadata": {},
   "outputs": [],
   "source": [
    "# H4 Rename columns md"
   ]
  },
  {
   "cell_type": "code",
   "execution_count": null,
   "id": "67d010ef",
   "metadata": {},
   "outputs": [],
   "source": [
    "# Rename cols"
   ]
  },
  {
   "cell_type": "code",
   "execution_count": null,
   "id": "85ed1134",
   "metadata": {},
   "outputs": [],
   "source": [
    "# Check dtypes, string length, etc"
   ]
  },
  {
   "cell_type": "code",
   "execution_count": null,
   "id": "83435850",
   "metadata": {},
   "outputs": [],
   "source": [
    "# H2 Exploratory Data Analysis"
   ]
  },
  {
   "cell_type": "code",
   "execution_count": null,
   "id": "0bf60915",
   "metadata": {},
   "outputs": [],
   "source": [
    "# EDA"
   ]
  },
  {
   "cell_type": "code",
   "execution_count": null,
   "id": "48ea8149",
   "metadata": {},
   "outputs": [],
   "source": [
    "#### H4 Chart title md"
   ]
  },
  {
   "cell_type": "code",
   "execution_count": null,
   "id": "28ed81e9",
   "metadata": {},
   "outputs": [],
   "source": [
    "# chart"
   ]
  },
  {
   "cell_type": "code",
   "execution_count": null,
   "id": "aa571ffc",
   "metadata": {},
   "outputs": [],
   "source": [
    "#### H4 Chart title md"
   ]
  },
  {
   "cell_type": "code",
   "execution_count": null,
   "id": "68536d20",
   "metadata": {},
   "outputs": [],
   "source": [
    "# chart"
   ]
  },
  {
   "cell_type": "code",
   "execution_count": null,
   "id": "106411fb-b840-4ac4-9ffb-38cb450673a0",
   "metadata": {},
   "outputs": [],
   "source": [
    "params = {\n",
    "    'subreddit':'news',\n",
    "    'size':50,\n",
    "    'q':'keyword'\n",
    "}"
   ]
  },
  {
   "cell_type": "code",
   "execution_count": null,
   "id": "82976b57-35c2-457e-9748-fd5c9e810c01",
   "metadata": {},
   "outputs": [],
   "source": [
    "# H3 Export df"
   ]
  },
  {
   "cell_type": "code",
   "execution_count": null,
   "id": "832db427",
   "metadata": {},
   "outputs": [],
   "source": [
    "# export df"
   ]
  }
 ],
 "metadata": {
  "kernelspec": {
   "display_name": "Python 3 (ipykernel)",
   "language": "python",
   "name": "python3"
  },
  "language_info": {
   "codemirror_mode": {
    "name": "ipython",
    "version": 3
   },
   "file_extension": ".py",
   "mimetype": "text/x-python",
   "name": "python",
   "nbconvert_exporter": "python",
   "pygments_lexer": "ipython3",
   "version": "3.9.10"
  }
 },
 "nbformat": 4,
 "nbformat_minor": 5
}
