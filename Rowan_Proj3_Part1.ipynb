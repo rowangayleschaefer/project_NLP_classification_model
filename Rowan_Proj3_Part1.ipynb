{
 "cells": [
  {
   "cell_type": "code",
   "execution_count": null,
   "id": "4a5eaa6b",
   "metadata": {},
   "outputs": [],
   "source": [
    "# To do:\n",
    "# Transfer readme to outline/make outline\n",
    "# Make proj pres outline/find images\n",
    "# Problem statement\n",
    "# Start scraping"
   ]
  },
  {
   "cell_type": "code",
   "execution_count": null,
   "id": "7bab0adf",
   "metadata": {},
   "outputs": [],
   "source": [
    "# H1 Title "
   ]
  },
  {
   "cell_type": "code",
   "execution_count": null,
   "id": "8d6b45ca",
   "metadata": {},
   "outputs": [],
   "source": [
    "# H2 Data Collection, Cleaning, & EDA"
   ]
  },
  {
   "cell_type": "code",
   "execution_count": null,
   "id": "8a919a59",
   "metadata": {},
   "outputs": [],
   "source": [
    "# Picture"
   ]
  },
  {
   "cell_type": "code",
   "execution_count": null,
   "id": "d41af9b4",
   "metadata": {},
   "outputs": [],
   "source": [
    "# H4 Problem statement"
   ]
  },
  {
   "cell_type": "code",
   "execution_count": null,
   "id": "305c503d",
   "metadata": {},
   "outputs": [],
   "source": [
    "# Problem Statement\n",
    "# - Is it clear what the goal of the project is?\n",
    "# - What type of model will be developed?\n",
    "# - How will success be evaluated?\n",
    "# - Is the scope of the project appropriate?\n",
    "# - Is it clear who cares about this or why this is important to investigate?\n",
    "# - Does the student consider the audience and the primary and secondary stakeholders?"
   ]
  },
  {
   "cell_type": "code",
   "execution_count": null,
   "id": "9c0067be",
   "metadata": {},
   "outputs": [],
   "source": [
    "# H4 Data info"
   ]
  },
  {
   "cell_type": "code",
   "execution_count": null,
   "id": "d4426710",
   "metadata": {},
   "outputs": [],
   "source": [
    "# Data info and background "
   ]
  },
  {
   "cell_type": "code",
   "execution_count": null,
   "id": "21ec3b57",
   "metadata": {},
   "outputs": [],
   "source": [
    "# H4  Subreddit 1 "
   ]
  },
  {
   "cell_type": "code",
   "execution_count": null,
   "id": "9ce819d0",
   "metadata": {},
   "outputs": [],
   "source": [
    "# Subreddit 1 info"
   ]
  },
  {
   "cell_type": "code",
   "execution_count": null,
   "id": "9e7a0434",
   "metadata": {},
   "outputs": [],
   "source": [
    "# H4 Subreddit 2 "
   ]
  },
  {
   "cell_type": "code",
   "execution_count": null,
   "id": "8e4f6c11",
   "metadata": {},
   "outputs": [],
   "source": [
    "# Subreddit 2 info"
   ]
  },
  {
   "cell_type": "code",
   "execution_count": null,
   "id": "252ec6ac",
   "metadata": {},
   "outputs": [],
   "source": [
    "# Research questions"
   ]
  },
  {
   "cell_type": "code",
   "execution_count": null,
   "id": "0a09a5d3",
   "metadata": {},
   "outputs": [],
   "source": [
    "# H2 Data Collection\n",
    "# - Was enough data gathered to generate a significant result?\n",
    "# - Was data collected that was useful and relevant to the project?\n",
    "# - Was data collection and storage optimized through custom functions, pipelines, and/or automation?\n",
    "# - Was thought given to the server receiving the requests such as considering number of requests per second?"
   ]
  },
  {
   "cell_type": "markdown",
   "id": "fa57f258-3d07-4ab3-b10c-ce20baf49916",
   "metadata": {},
   "source": [
    "#### imports"
   ]
  },
  {
   "cell_type": "code",
   "execution_count": 2,
   "id": "664bd2f4",
   "metadata": {},
   "outputs": [],
   "source": [
    "import requests\n",
    "import pandas as pd\n",
    "import json\n",
    "import csv\n",
    "import time\n",
    "import datetime"
   ]
  },
  {
   "cell_type": "markdown",
   "id": "11959394-8e3e-44d7-895d-1c45a474da5a",
   "metadata": {},
   "source": [
    "#### testing API"
   ]
  },
  {
   "cell_type": "code",
   "execution_count": null,
   "id": "0128a125-41f4-4a39-a4f8-b0e12c53865e",
   "metadata": {},
   "outputs": [],
   "source": [
    "# Reddit's API allows 60 requests per minute. "
   ]
  },
  {
   "cell_type": "code",
   "execution_count": null,
   "id": "8bc80623-8673-4601-bc02-9668619f472c",
   "metadata": {},
   "outputs": [],
   "source": [
    "# Here is the basic process to pull from the reddit API"
   ]
  },
  {
   "cell_type": "code",
   "execution_count": 3,
   "id": "2fb1a681",
   "metadata": {},
   "outputs": [],
   "source": [
    "url = 'https://api.pushshift.io/reddit/search/submission'"
   ]
  },
  {
   "cell_type": "code",
   "execution_count": 4,
   "id": "c164d4ee",
   "metadata": {},
   "outputs": [],
   "source": [
    "params = {\n",
    "'subreddit': 'boardgames',\n",
    "'size':100}"
   ]
  },
  {
   "cell_type": "code",
   "execution_count": 5,
   "id": "177d94b6",
   "metadata": {},
   "outputs": [],
   "source": [
    "res = requests.get(url, params)\n",
    "res.status_code"
   ]
  },
  {
   "cell_type": "code",
   "execution_count": 7,
   "id": "abb44335",
   "metadata": {},
   "outputs": [],
   "source": [
    "data=res.json()\n",
    "posts = data['data']\n",
    "len(posts)\n",
    "df = pd.DataFrame(posts)"
   ]
  },
  {
   "cell_type": "markdown",
   "id": "11324c09-b9bd-4445-8ad1-de7dd5df8bb0",
   "metadata": {},
   "source": [
    "#### Checking available data"
   ]
  },
  {
   "cell_type": "code",
   "execution_count": 12,
   "id": "5e725d60",
   "metadata": {},
   "outputs": [
    {
     "data": {
      "text/plain": [
       "Index(['all_awardings', 'allow_live_comments', 'author',\n",
       "       'author_flair_css_class', 'author_flair_richtext',\n",
       "       'author_flair_template_id', 'author_flair_text',\n",
       "       'author_flair_text_color', 'author_flair_type', 'author_fullname',\n",
       "       'author_is_blocked', 'author_patreon_flair', 'author_premium',\n",
       "       'awarders', 'can_mod_post', 'contest_mode', 'created_utc', 'domain',\n",
       "       'full_link', 'gildings', 'id', 'is_created_from_ads_ui',\n",
       "       'is_crosspostable', 'is_meta', 'is_original_content',\n",
       "       'is_reddit_media_domain', 'is_robot_indexable', 'is_self', 'is_video',\n",
       "       'link_flair_background_color', 'link_flair_richtext',\n",
       "       'link_flair_text_color', 'link_flair_type', 'locked', 'media_only',\n",
       "       'no_follow', 'num_comments', 'num_crossposts', 'over_18',\n",
       "       'parent_whitelist_status', 'permalink', 'pinned', 'pwls',\n",
       "       'retrieved_on', 'score', 'selftext', 'send_replies', 'spoiler',\n",
       "       'stickied', 'subreddit', 'subreddit_id', 'subreddit_subscribers',\n",
       "       'subreddit_type', 'thumbnail', 'title', 'total_awards_received',\n",
       "       'treatment_tags', 'upvote_ratio', 'url', 'whitelist_status', 'wls',\n",
       "       'post_hint', 'preview', 'removed_by_category', 'thumbnail_height',\n",
       "       'thumbnail_width', 'url_overridden_by_dest', 'link_flair_template_id',\n",
       "       'link_flair_text', 'gallery_data', 'is_gallery', 'link_flair_css_class',\n",
       "       'media_metadata', 'author_flair_background_color', 'media',\n",
       "       'media_embed', 'secure_media', 'secure_media_embed', 'suggested_sort',\n",
       "       'crosspost_parent', 'crosspost_parent_list'],\n",
       "      dtype='object')"
      ]
     },
     "execution_count": 12,
     "metadata": {},
     "output_type": "execute_result"
    }
   ],
   "source": [
    "df.columns"
   ]
  },
  {
   "cell_type": "code",
   "execution_count": 13,
   "id": "2e147686",
   "metadata": {},
   "outputs": [
    {
     "data": {
      "text/html": [
       "<div>\n",
       "<style scoped>\n",
       "    .dataframe tbody tr th:only-of-type {\n",
       "        vertical-align: middle;\n",
       "    }\n",
       "\n",
       "    .dataframe tbody tr th {\n",
       "        vertical-align: top;\n",
       "    }\n",
       "\n",
       "    .dataframe thead th {\n",
       "        text-align: right;\n",
       "    }\n",
       "</style>\n",
       "<table border=\"1\" class=\"dataframe\">\n",
       "  <thead>\n",
       "    <tr style=\"text-align: right;\">\n",
       "      <th></th>\n",
       "      <th>subreddit</th>\n",
       "      <th>selftext</th>\n",
       "      <th>title</th>\n",
       "    </tr>\n",
       "  </thead>\n",
       "  <tbody>\n",
       "    <tr>\n",
       "      <th>0</th>\n",
       "      <td>boardgames</td>\n",
       "      <td>For me, it was Gloomhaven. Looking back, the s...</td>\n",
       "      <td>What was the first game that really swept you ...</td>\n",
       "    </tr>\n",
       "    <tr>\n",
       "      <th>1</th>\n",
       "      <td>boardgames</td>\n",
       "      <td>PSA: afaik, this is just Promo Packs 1 and 2 c...</td>\n",
       "      <td>Spirit Island: Feather &amp;amp; Flame now availab...</td>\n",
       "    </tr>\n",
       "    <tr>\n",
       "      <th>2</th>\n",
       "      <td>boardgames</td>\n",
       "      <td></td>\n",
       "      <td>Mariokart racing on Rainbowroad</td>\n",
       "    </tr>\n",
       "    <tr>\n",
       "      <th>3</th>\n",
       "      <td>boardgames</td>\n",
       "      <td>I've been pretty obsessed with C&amp;amp;K the las...</td>\n",
       "      <td>I love Catan: Cities &amp;amp; Knights. I'm lookin...</td>\n",
       "    </tr>\n",
       "    <tr>\n",
       "      <th>4</th>\n",
       "      <td>boardgames</td>\n",
       "      <td>Cole confirmed in the KS updates that an expan...</td>\n",
       "      <td>Oath expansion confirmed!</td>\n",
       "    </tr>\n",
       "  </tbody>\n",
       "</table>\n",
       "</div>"
      ],
      "text/plain": [
       "    subreddit                                           selftext  \\\n",
       "0  boardgames  For me, it was Gloomhaven. Looking back, the s...   \n",
       "1  boardgames  PSA: afaik, this is just Promo Packs 1 and 2 c...   \n",
       "2  boardgames                                                      \n",
       "3  boardgames  I've been pretty obsessed with C&amp;K the las...   \n",
       "4  boardgames  Cole confirmed in the KS updates that an expan...   \n",
       "\n",
       "                                               title  \n",
       "0  What was the first game that really swept you ...  \n",
       "1  Spirit Island: Feather &amp; Flame now availab...  \n",
       "2                    Mariokart racing on Rainbowroad  \n",
       "3  I love Catan: Cities &amp; Knights. I'm lookin...  \n",
       "4                          Oath expansion confirmed!  "
      ]
     },
     "execution_count": 13,
     "metadata": {},
     "output_type": "execute_result"
    }
   ],
   "source": [
    "df[['subreddit', 'selftext', 'title']].head()"
   ]
  },
  {
   "cell_type": "code",
   "execution_count": 14,
   "id": "160e0ac5-44a0-4c2e-9589-90224d43b14e",
   "metadata": {},
   "outputs": [],
   "source": [
    "# get lots of comments quickly with https://www.reddit.com/r/pushshift/comments/newjr2/best_way_to_fetch_100k_or_more_comments/\n",
    "# https://www.ergosum.co/how-to-use-the-reddit-api-with-pushshift-to-bypass-api-limits/"
   ]
  },
  {
   "cell_type": "markdown",
   "id": "a92c74a5-6af9-4da2-9c3f-b353e255dd7a",
   "metadata": {},
   "source": [
    "## Data Collection"
   ]
  },
  {
   "cell_type": "markdown",
   "id": "c115c80a-239d-45e2-98f9-5b4f9c83364f",
   "metadata": {},
   "source": [
    "To avoid converting timestamps and adding dates, I calculated the 'before' and 'after' parameters based off UTC time. \n",
    "\n",
    "It doesn't really matter that these are exact. These subreddits are active, so I found that a one-month span for around 100 posts worked well even if it didn't capture every post."
   ]
  },
  {
   "cell_type": "code",
   "execution_count": 85,
   "id": "df59a372-b48b-41e1-8675-955fa0a1d5f9",
   "metadata": {
    "tags": []
   },
   "outputs": [
    {
     "name": "stdout",
     "output_type": "stream",
     "text": [
      "1651117519.863908\n"
     ]
    }
   ],
   "source": [
    "#Get today's date in UTC timestamp\n",
    "from datetime import timezone\n",
    "dt = datetime.datetime.now(timezone.utc)\n",
    "utc_time = dt.replace(tzinfo=timezone.utc)\n",
    "today = utc_time.timestamp()\n",
    "\n",
    "print(today)    \n",
    "\n",
    "# UTC datetime is clculated in \"seconds elapsed\". One year is about 31,536,000 seconds, one month is 2,628,288. \n",
    "onemonthish = 2620000\n",
    "\n",
    "# Write a loop that creates a dictionary of before:after values to pass into my api function\n",
    "\n",
    "rangelist={}\n",
    "for i in range (0, 60):\n",
    "    after = int(round(today - (onemonth*(i+1)),0)) \n",
    "    before = int(round(today - (onemonth*i), 0)) #When i is 0, \"before\" is set to today.\n",
    "    rangelist[before]=after"
   ]
  },
  {
   "cell_type": "markdown",
   "id": "ce2850c0-c61c-437f-a076-fe9de9c73884",
   "metadata": {},
   "source": [
    "Next I chose the fields I wanted to pull from the API, and wrote a function to automate api requests."
   ]
  },
  {
   "cell_type": "code",
   "execution_count": 86,
   "id": "2f229224-a566-4a00-938d-4507beb18157",
   "metadata": {},
   "outputs": [
    {
     "data": {
      "text/html": [
       "<div>\n",
       "<style scoped>\n",
       "    .dataframe tbody tr th:only-of-type {\n",
       "        vertical-align: middle;\n",
       "    }\n",
       "\n",
       "    .dataframe tbody tr th {\n",
       "        vertical-align: top;\n",
       "    }\n",
       "\n",
       "    .dataframe thead th {\n",
       "        text-align: right;\n",
       "    }\n",
       "</style>\n",
       "<table border=\"1\" class=\"dataframe\">\n",
       "  <thead>\n",
       "    <tr style=\"text-align: right;\">\n",
       "      <th></th>\n",
       "      <th>author</th>\n",
       "      <th>created_utc</th>\n",
       "      <th>id</th>\n",
       "      <th>is_created_from_ads_ui</th>\n",
       "      <th>num_comments</th>\n",
       "      <th>score</th>\n",
       "      <th>selftext</th>\n",
       "      <th>title</th>\n",
       "      <th>total_awards_received</th>\n",
       "      <th>upvote_ratio</th>\n",
       "      <th>url</th>\n",
       "    </tr>\n",
       "  </thead>\n",
       "  <tbody>\n",
       "    <tr>\n",
       "      <th>0</th>\n",
       "      <td>unit111</td>\n",
       "      <td>1648482436</td>\n",
       "      <td>tqc9ff</td>\n",
       "      <td>False</td>\n",
       "      <td>0</td>\n",
       "      <td>1</td>\n",
       "      <td>Basically title. I am trying to figure out if ...</td>\n",
       "      <td>Has anybody used Playwright with Behave</td>\n",
       "      <td>0</td>\n",
       "      <td>1.0</td>\n",
       "      <td>https://www.reddit.com/r/learnpython/comments/...</td>\n",
       "    </tr>\n",
       "  </tbody>\n",
       "</table>\n",
       "</div>"
      ],
      "text/plain": [
       "    author  created_utc      id  is_created_from_ads_ui  num_comments  score  \\\n",
       "0  unit111   1648482436  tqc9ff                   False             0      1   \n",
       "\n",
       "                                            selftext  \\\n",
       "0  Basically title. I am trying to figure out if ...   \n",
       "\n",
       "                                     title  total_awards_received  \\\n",
       "0  Has anybody used Playwright with Behave                      0   \n",
       "\n",
       "   upvote_ratio                                                url  \n",
       "0           1.0  https://www.reddit.com/r/learnpython/comments/...  "
      ]
     },
     "execution_count": 86,
     "metadata": {},
     "output_type": "execute_result"
    }
   ],
   "source": [
    "# Choosing the fields I want to pull from the API\n",
    "fields = ['id', 'created_utc', 'title', 'selftext', 'author', 'upvote_ratio', 'score', 'num_comments', 'total_awards_received', 'is_created_from_ads_ui', 'url']\n",
    "\n",
    "def query(subreddit, num, before, after):   \n",
    "    params = {\n",
    "    'subreddit': subreddit,\n",
    "    'size':num,\n",
    "    'before':before,\n",
    "    'after':after,\n",
    "    'fields':fields}    # defined above\n",
    "    url = 'https://api.pushshift.io/reddit/search/submission/?'\n",
    "    res = requests.get(url, params)\n",
    "\n",
    "    data = res.json()\n",
    "    test = pd.DataFrame(data['data'])\n",
    "    return(test)\n",
    "\n",
    "# Testing my function\n",
    "query('learnpython', 1, 1651108665, 1648480377)"
   ]
  },
  {
   "cell_type": "markdown",
   "id": "a4e9fd4c-0cc5-4c5f-ab81-0c8cbf169e0c",
   "metadata": {},
   "source": [
    "I then iterated over my before:after dictionary and passed key:value pairs into the api function to set my time range. "
   ]
  },
  {
   "cell_type": "code",
   "execution_count": 87,
   "id": "bad1064f-4f2d-400d-a939-28bc65a46611",
   "metadata": {},
   "outputs": [
    {
     "name": "stdout",
     "output_type": "stream",
     "text": [
      "pulled 100 rows\n",
      "pulled 100 rows\n",
      "pulled 100 rows\n",
      "pulled 100 rows\n",
      "pulled 100 rows\n",
      "pulled 100 rows\n",
      "pulled 100 rows\n",
      "pulled 100 rows\n",
      "pulled 100 rows\n",
      "pulled 100 rows\n",
      "pulled 100 rows\n",
      "pulled 100 rows\n",
      "pulled 100 rows\n",
      "pulled 100 rows\n",
      "pulled 100 rows\n",
      "pulled 100 rows\n",
      "pulled 100 rows\n",
      "pulled 100 rows\n",
      "pulled 100 rows\n",
      "pulled 100 rows\n",
      "pulled 100 rows\n",
      "pulled 100 rows\n",
      "pulled 100 rows\n",
      "pulled 100 rows\n",
      "pulled 100 rows\n",
      "pulled 100 rows\n",
      "pulled 100 rows\n",
      "pulled 100 rows\n",
      "pulled 100 rows\n",
      "pulled 100 rows\n",
      "pulled 100 rows\n",
      "pulled 100 rows\n",
      "pulled 100 rows\n",
      "pulled 100 rows\n",
      "pulled 100 rows\n",
      "pulled 100 rows\n",
      "pulled 100 rows\n",
      "pulled 100 rows\n",
      "pulled 100 rows\n",
      "pulled 100 rows\n",
      "pulled 100 rows\n",
      "pulled 100 rows\n",
      "pulled 100 rows\n",
      "pulled 100 rows\n",
      "pulled 100 rows\n",
      "pulled 100 rows\n",
      "pulled 100 rows\n",
      "pulled 100 rows\n",
      "pulled 100 rows\n",
      "pulled 100 rows\n",
      "pulled 100 rows\n",
      "pulled 100 rows\n",
      "pulled 100 rows\n",
      "pulled 100 rows\n",
      "pulled 100 rows\n",
      "pulled 100 rows\n",
      "pulled 100 rows\n",
      "pulled 100 rows\n",
      "pulled 100 rows\n",
      "pulled 100 rows\n",
      "<class 'pandas.core.frame.DataFrame'>\n",
      "Int64Index: 5989 entries, 0 to 99\n",
      "Data columns (total 11 columns):\n",
      " #   Column                  Non-Null Count  Dtype  \n",
      "---  ------                  --------------  -----  \n",
      " 0   author                  5989 non-null   object \n",
      " 1   created_utc             5989 non-null   int64  \n",
      " 2   id                      5989 non-null   object \n",
      " 3   is_created_from_ads_ui  999 non-null    object \n",
      " 4   num_comments            5989 non-null   int64  \n",
      " 5   score                   5989 non-null   int64  \n",
      " 6   selftext                5989 non-null   object \n",
      " 7   title                   5989 non-null   object \n",
      " 8   total_awards_received   3592 non-null   float64\n",
      " 9   upvote_ratio            2294 non-null   float64\n",
      " 10  url                     5989 non-null   object \n",
      "dtypes: float64(2), int64(3), object(6)\n",
      "memory usage: 561.5+ KB\n"
     ]
    }
   ],
   "source": [
    "# Pull and make dataframe for learnpython sub\n",
    "# List comp version sometimes works and sometimes doesn't, possibly because I can't add sleep time. I've commented it out for now\n",
    "# listdfs=[query('learnpython', 100, key, val) for key, val in rangelist.items()]\n",
    "\n",
    "listdfs=[]\n",
    "for key, val in rangelist.items():\n",
    "    i = query('learnpython', 100, key, val) \n",
    "    print('pulled 100 rows')\n",
    "    listdfs.append(i)\n",
    "    time.sleep(5)\n",
    "\n",
    "learnpython=pd.concat(listdfs)\n",
    "learnpython.info()"
   ]
  },
  {
   "cell_type": "code",
   "execution_count": 88,
   "id": "3f1b2eed-8e5b-4934-8772-3a64418dd09c",
   "metadata": {},
   "outputs": [
    {
     "name": "stdout",
     "output_type": "stream",
     "text": [
      "pulled 100 rows\n",
      "pulled 100 rows\n",
      "pulled 100 rows\n",
      "pulled 100 rows\n",
      "pulled 100 rows\n",
      "pulled 100 rows\n",
      "pulled 100 rows\n",
      "pulled 100 rows\n",
      "pulled 100 rows\n",
      "pulled 100 rows\n",
      "pulled 100 rows\n",
      "pulled 100 rows\n",
      "pulled 100 rows\n",
      "pulled 100 rows\n",
      "pulled 100 rows\n",
      "pulled 100 rows\n",
      "pulled 100 rows\n",
      "pulled 100 rows\n",
      "pulled 100 rows\n",
      "pulled 100 rows\n",
      "pulled 100 rows\n",
      "pulled 100 rows\n",
      "pulled 100 rows\n",
      "pulled 100 rows\n",
      "pulled 100 rows\n",
      "pulled 100 rows\n",
      "pulled 100 rows\n",
      "pulled 100 rows\n",
      "pulled 100 rows\n",
      "pulled 100 rows\n",
      "pulled 100 rows\n",
      "pulled 100 rows\n",
      "pulled 100 rows\n",
      "pulled 100 rows\n",
      "pulled 100 rows\n",
      "pulled 100 rows\n",
      "pulled 100 rows\n",
      "pulled 100 rows\n",
      "pulled 100 rows\n",
      "pulled 100 rows\n",
      "pulled 100 rows\n",
      "pulled 100 rows\n",
      "pulled 100 rows\n",
      "pulled 100 rows\n",
      "pulled 100 rows\n",
      "pulled 100 rows\n",
      "pulled 100 rows\n",
      "pulled 100 rows\n",
      "pulled 100 rows\n",
      "pulled 100 rows\n",
      "pulled 100 rows\n",
      "pulled 100 rows\n",
      "pulled 100 rows\n",
      "pulled 100 rows\n",
      "pulled 100 rows\n",
      "pulled 100 rows\n",
      "pulled 100 rows\n",
      "pulled 100 rows\n",
      "pulled 100 rows\n",
      "pulled 100 rows\n",
      "<class 'pandas.core.frame.DataFrame'>\n",
      "Int64Index: 3161 entries, 0 to 29\n",
      "Data columns (total 11 columns):\n",
      " #   Column                  Non-Null Count  Dtype  \n",
      "---  ------                  --------------  -----  \n",
      " 0   author                  3161 non-null   object \n",
      " 1   created_utc             3161 non-null   int64  \n",
      " 2   id                      3161 non-null   object \n",
      " 3   is_created_from_ads_ui  1039 non-null   object \n",
      " 4   num_comments            3161 non-null   int64  \n",
      " 5   score                   3161 non-null   int64  \n",
      " 6   selftext                3161 non-null   object \n",
      " 7   title                   3161 non-null   object \n",
      " 8   total_awards_received   2587 non-null   float64\n",
      " 9   upvote_ratio            2006 non-null   float64\n",
      " 10  url                     3161 non-null   object \n",
      "dtypes: float64(2), int64(3), object(6)\n",
      "memory usage: 296.3+ KB\n"
     ]
    }
   ],
   "source": [
    "# Pull and make dataframe for learnsql sub\n",
    "# List comp version sometimes works and sometimes doesn't, possibly because I can't add sleep time. I've commented it out for now\n",
    "# listdfs=[query('learnsql', 100, key, val) for key, val in rangelist.items()]\n",
    "\n",
    "listdfs=[]\n",
    "for key, val in rangelist.items():\n",
    "    i = query('learnsql', 100, key, val) \n",
    "    print('pulled 100 rows')\n",
    "    listdfs.append(i)\n",
    "    time.sleep(5)\n",
    "\n",
    "learnsql=pd.concat(listdfs)\n",
    "learnsql.info()"
   ]
  },
  {
   "cell_type": "markdown",
   "id": "be522af9-b8f3-4abf-aa2a-3a36af4cdd6b",
   "metadata": {},
   "source": [
    "#### Export dataframes"
   ]
  },
  {
   "cell_type": "code",
   "execution_count": 89,
   "id": "832db427",
   "metadata": {},
   "outputs": [],
   "source": [
    "# export df\n",
    "learnpython.to_csv('learnpython2.csv')"
   ]
  },
  {
   "cell_type": "code",
   "execution_count": 90,
   "id": "b6c5055a-bdd2-4d7e-83ce-a483a47a8bb0",
   "metadata": {},
   "outputs": [],
   "source": [
    "learnsql.to_csv('learnsql2.csv')"
   ]
  },
  {
   "cell_type": "code",
   "execution_count": null,
   "id": "5c417c29-d6de-4abb-bdd6-17ea3eb2a566",
   "metadata": {},
   "outputs": [],
   "source": []
  }
 ],
 "metadata": {
  "kernelspec": {
   "display_name": "Python 3 (ipykernel)",
   "language": "python",
   "name": "python3"
  },
  "language_info": {
   "codemirror_mode": {
    "name": "ipython",
    "version": 3
   },
   "file_extension": ".py",
   "mimetype": "text/x-python",
   "name": "python",
   "nbconvert_exporter": "python",
   "pygments_lexer": "ipython3",
   "version": "3.9.7"
  }
 },
 "nbformat": 4,
 "nbformat_minor": 5
}
