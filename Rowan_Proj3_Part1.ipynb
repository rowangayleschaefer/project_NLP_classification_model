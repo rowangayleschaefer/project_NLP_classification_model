{
 "cells": [
  {
   "cell_type": "code",
   "execution_count": null,
   "id": "4a5eaa6b",
   "metadata": {},
   "outputs": [],
   "source": [
    "# To do:\n",
    "# Transfer readme to outline/make outline\n",
    "# Make proj pres outline/find images\n",
    "# Problem statement\n",
    "# Start scraping"
   ]
  },
  {
   "cell_type": "code",
   "execution_count": null,
   "id": "7bab0adf",
   "metadata": {},
   "outputs": [],
   "source": [
    "# H1 Title "
   ]
  },
  {
   "cell_type": "code",
   "execution_count": null,
   "id": "8d6b45ca",
   "metadata": {},
   "outputs": [],
   "source": [
    "# H2 Data Collection, Cleaning, & EDA"
   ]
  },
  {
   "cell_type": "code",
   "execution_count": null,
   "id": "8a919a59",
   "metadata": {},
   "outputs": [],
   "source": [
    "# Picture"
   ]
  },
  {
   "cell_type": "code",
   "execution_count": null,
   "id": "d41af9b4",
   "metadata": {},
   "outputs": [],
   "source": [
    "# H4 Problem statement"
   ]
  },
  {
   "cell_type": "code",
   "execution_count": null,
   "id": "305c503d",
   "metadata": {},
   "outputs": [],
   "source": [
    "# Problem Statement\n",
    "# - Is it clear what the goal of the project is?\n",
    "# - What type of model will be developed?\n",
    "# - How will success be evaluated?\n",
    "# - Is the scope of the project appropriate?\n",
    "# - Is it clear who cares about this or why this is important to investigate?\n",
    "# - Does the student consider the audience and the primary and secondary stakeholders?"
   ]
  },
  {
   "cell_type": "code",
   "execution_count": null,
   "id": "9c0067be",
   "metadata": {},
   "outputs": [],
   "source": [
    "# H4 Data info"
   ]
  },
  {
   "cell_type": "code",
   "execution_count": null,
   "id": "d4426710",
   "metadata": {},
   "outputs": [],
   "source": [
    "# Data info and background "
   ]
  },
  {
   "cell_type": "code",
   "execution_count": null,
   "id": "21ec3b57",
   "metadata": {},
   "outputs": [],
   "source": [
    "# H4  Subreddit 1 "
   ]
  },
  {
   "cell_type": "code",
   "execution_count": null,
   "id": "9ce819d0",
   "metadata": {},
   "outputs": [],
   "source": [
    "# Subreddit 1 info"
   ]
  },
  {
   "cell_type": "code",
   "execution_count": null,
   "id": "9e7a0434",
   "metadata": {},
   "outputs": [],
   "source": [
    "# H4 Subreddit 2 "
   ]
  },
  {
   "cell_type": "code",
   "execution_count": null,
   "id": "8e4f6c11",
   "metadata": {},
   "outputs": [],
   "source": [
    "# Subreddit 2 info"
   ]
  },
  {
   "cell_type": "code",
   "execution_count": null,
   "id": "252ec6ac",
   "metadata": {},
   "outputs": [],
   "source": [
    "# Research questions"
   ]
  },
  {
   "cell_type": "code",
   "execution_count": null,
   "id": "0a09a5d3",
   "metadata": {},
   "outputs": [],
   "source": [
    "# H2 Data Collection\n",
    "# - Was enough data gathered to generate a significant result?\n",
    "# - Was data collected that was useful and relevant to the project?\n",
    "# - Was data collection and storage optimized through custom functions, pipelines, and/or automation?\n",
    "# - Was thought given to the server receiving the requests such as considering number of requests per second?"
   ]
  },
  {
   "cell_type": "code",
   "execution_count": null,
   "id": "cc41b1f0",
   "metadata": {},
   "outputs": [],
   "source": [
    "# H4 imports"
   ]
  },
  {
   "cell_type": "code",
   "execution_count": 39,
   "id": "664bd2f4",
   "metadata": {},
   "outputs": [],
   "source": [
    "import requests\n",
    "import pandas as pd\n",
    "import json\n",
    "import csv\n",
    "import time\n",
    "import datetime"
   ]
  },
  {
   "cell_type": "code",
   "execution_count": 40,
   "id": "2fb1a681",
   "metadata": {},
   "outputs": [],
   "source": [
    "url = 'https://api.pushshift.io/reddit/search/submission' #?subreddit=mysubreddit'"
   ]
  },
  {
   "cell_type": "code",
   "execution_count": 41,
   "id": "c164d4ee",
   "metadata": {},
   "outputs": [],
   "source": [
    "params = {\n",
    "'subreddit': 'boardgames',\n",
    "'size':100}"
   ]
  },
  {
   "cell_type": "code",
   "execution_count": 42,
   "id": "177d94b6",
   "metadata": {},
   "outputs": [],
   "source": [
    "res = requests.get(url, params)"
   ]
  },
  {
   "cell_type": "code",
   "execution_count": 43,
   "id": "e9d8fe13",
   "metadata": {},
   "outputs": [
    {
     "data": {
      "text/plain": [
       "200"
      ]
     },
     "execution_count": 43,
     "metadata": {},
     "output_type": "execute_result"
    }
   ],
   "source": [
    "res.status_code"
   ]
  },
  {
   "cell_type": "code",
   "execution_count": 44,
   "id": "abb44335",
   "metadata": {},
   "outputs": [],
   "source": [
    "data=res.json()"
   ]
  },
  {
   "cell_type": "code",
   "execution_count": 45,
   "id": "c4b36e77",
   "metadata": {},
   "outputs": [],
   "source": [
    "posts = data['data']"
   ]
  },
  {
   "cell_type": "code",
   "execution_count": 46,
   "id": "4b4904b9",
   "metadata": {},
   "outputs": [
    {
     "data": {
      "text/plain": [
       "100"
      ]
     },
     "execution_count": 46,
     "metadata": {},
     "output_type": "execute_result"
    }
   ],
   "source": [
    "len(posts)"
   ]
  },
  {
   "cell_type": "code",
   "execution_count": 47,
   "id": "2ac5bb40",
   "metadata": {},
   "outputs": [],
   "source": [
    "import pandas as pd"
   ]
  },
  {
   "cell_type": "code",
   "execution_count": 48,
   "id": "8ad345ef",
   "metadata": {},
   "outputs": [],
   "source": [
    "df = pd.DataFrame(posts)"
   ]
  },
  {
   "cell_type": "code",
   "execution_count": 49,
   "id": "5e725d60",
   "metadata": {},
   "outputs": [
    {
     "data": {
      "text/plain": [
       "Index(['all_awardings', 'allow_live_comments', 'author',\n",
       "       'author_flair_css_class', 'author_flair_richtext', 'author_flair_text',\n",
       "       'author_flair_type', 'author_fullname', 'author_is_blocked',\n",
       "       'author_patreon_flair', 'author_premium', 'awarders', 'can_mod_post',\n",
       "       'contest_mode', 'created_utc', 'domain', 'full_link', 'gildings', 'id',\n",
       "       'is_created_from_ads_ui', 'is_crosspostable', 'is_meta',\n",
       "       'is_original_content', 'is_reddit_media_domain', 'is_robot_indexable',\n",
       "       'is_self', 'is_video', 'link_flair_background_color',\n",
       "       'link_flair_richtext', 'link_flair_text_color', 'link_flair_type',\n",
       "       'locked', 'media_only', 'no_follow', 'num_comments', 'num_crossposts',\n",
       "       'over_18', 'parent_whitelist_status', 'permalink', 'pinned', 'pwls',\n",
       "       'retrieved_on', 'score', 'selftext', 'send_replies', 'spoiler',\n",
       "       'stickied', 'subreddit', 'subreddit_id', 'subreddit_subscribers',\n",
       "       'subreddit_type', 'thumbnail', 'title', 'total_awards_received',\n",
       "       'treatment_tags', 'upvote_ratio', 'url', 'whitelist_status', 'wls',\n",
       "       'link_flair_template_id', 'link_flair_text', 'gallery_data',\n",
       "       'is_gallery', 'link_flair_css_class', 'media_metadata',\n",
       "       'thumbnail_height', 'thumbnail_width', 'url_overridden_by_dest',\n",
       "       'author_flair_template_id', 'author_flair_text_color', 'post_hint',\n",
       "       'preview', 'removed_by_category', 'author_flair_background_color',\n",
       "       'media', 'media_embed', 'secure_media', 'secure_media_embed',\n",
       "       'suggested_sort', 'crosspost_parent', 'crosspost_parent_list'],\n",
       "      dtype='object')"
      ]
     },
     "execution_count": 49,
     "metadata": {},
     "output_type": "execute_result"
    }
   ],
   "source": [
    "df.columns"
   ]
  },
  {
   "cell_type": "code",
   "execution_count": 12,
   "id": "2e147686",
   "metadata": {},
   "outputs": [
    {
     "data": {
      "text/html": [
       "<div>\n",
       "<style scoped>\n",
       "    .dataframe tbody tr th:only-of-type {\n",
       "        vertical-align: middle;\n",
       "    }\n",
       "\n",
       "    .dataframe tbody tr th {\n",
       "        vertical-align: top;\n",
       "    }\n",
       "\n",
       "    .dataframe thead th {\n",
       "        text-align: right;\n",
       "    }\n",
       "</style>\n",
       "<table border=\"1\" class=\"dataframe\">\n",
       "  <thead>\n",
       "    <tr style=\"text-align: right;\">\n",
       "      <th></th>\n",
       "      <th>subreddit</th>\n",
       "      <th>selftext</th>\n",
       "      <th>title</th>\n",
       "    </tr>\n",
       "  </thead>\n",
       "  <tbody>\n",
       "    <tr>\n",
       "      <th>0</th>\n",
       "      <td>boardgames</td>\n",
       "      <td>Cole confirmed in the KS updates that an expan...</td>\n",
       "      <td>Oath expansion confirmed!</td>\n",
       "    </tr>\n",
       "    <tr>\n",
       "      <th>1</th>\n",
       "      <td>boardgames</td>\n",
       "      <td>I’m planning on buying 3 games mostly because ...</td>\n",
       "      <td>Thoughts about these games</td>\n",
       "    </tr>\n",
       "    <tr>\n",
       "      <th>2</th>\n",
       "      <td>boardgames</td>\n",
       "      <td>Just played my first game of Ark Nova and was ...</td>\n",
       "      <td>Help settle an Ark Nova debate.</td>\n",
       "    </tr>\n",
       "    <tr>\n",
       "      <th>3</th>\n",
       "      <td>boardgames</td>\n",
       "      <td></td>\n",
       "      <td>Getting ready for a vendor event in a few week...</td>\n",
       "    </tr>\n",
       "    <tr>\n",
       "      <th>4</th>\n",
       "      <td>boardgames</td>\n",
       "      <td></td>\n",
       "      <td>Been missing party games lately, so I publishe...</td>\n",
       "    </tr>\n",
       "  </tbody>\n",
       "</table>\n",
       "</div>"
      ],
      "text/plain": [
       "    subreddit                                           selftext  \\\n",
       "0  boardgames  Cole confirmed in the KS updates that an expan...   \n",
       "1  boardgames  I’m planning on buying 3 games mostly because ...   \n",
       "2  boardgames  Just played my first game of Ark Nova and was ...   \n",
       "3  boardgames                                                      \n",
       "4  boardgames                                                      \n",
       "\n",
       "                                               title  \n",
       "0                          Oath expansion confirmed!  \n",
       "1                         Thoughts about these games  \n",
       "2                    Help settle an Ark Nova debate.  \n",
       "3  Getting ready for a vendor event in a few week...  \n",
       "4  Been missing party games lately, so I publishe...  "
      ]
     },
     "execution_count": 12,
     "metadata": {},
     "output_type": "execute_result"
    }
   ],
   "source": [
    "df[['subreddit', 'selftext', 'title']].head()"
   ]
  },
  {
   "cell_type": "code",
   "execution_count": null,
   "id": "160e0ac5-44a0-4c2e-9589-90224d43b14e",
   "metadata": {},
   "outputs": [],
   "source": [
    "# get lots of comments quickly with https://www.reddit.com/r/pushshift/comments/newjr2/best_way_to_fetch_100k_or_more_comments/\n",
    "# https://www.ergosum.co/how-to-use-the-reddit-api-with-pushshift-to-bypass-api-limits/"
   ]
  },
  {
   "cell_type": "code",
   "execution_count": 18,
   "id": "362badfa",
   "metadata": {},
   "outputs": [],
   "source": [
    "#Create your timestamps and queries for your search URL\n",
    "#https://www.unixtimestamp.com/index.php > Use this to create your timestamps\n",
    "#after = \"1577836800\" #Submissions after this timestamp (1577836800 = 01 Jan 20)\n",
    "#before = \"1607040000\" #Submissions before this timestamp (1607040000 = 04 Dec 20)\n",
    "#query = \"Cyberpunk 2077\" #Keyword(s) to look for in submissions\n",
    "sub = \"Games\" #Which Subreddit to search in\n",
    "\n",
    "#subCount tracks the no. of total submissions we collect\n",
    "count = 0\n",
    "#subStats is the dictionary where we will store our data.\n",
    "data = {}"
   ]
  },
  {
   "cell_type": "code",
   "execution_count": null,
   "id": "6d8ab892-a401-471f-8eda-621fe5f21b4c",
   "metadata": {},
   "outputs": [],
   "source": [
    "#Will need to filter out ads.\n",
    "\n",
    "#Reddit API pulls most recent posts first. So I need to use before and go backwards. "
   ]
  },
  {
   "cell_type": "code",
   "execution_count": 137,
   "id": "6b5e62bb-8b07-4bde-b035-dbe86e56e6ad",
   "metadata": {},
   "outputs": [
    {
     "data": {
      "text/plain": [
       "31539456"
      ]
     },
     "execution_count": 137,
     "metadata": {},
     "output_type": "execute_result"
    }
   ],
   "source": [
    "2628288*12"
   ]
  },
  {
   "cell_type": "code",
   "execution_count": 122,
   "id": "df59a372-b48b-41e1-8675-955fa0a1d5f9",
   "metadata": {},
   "outputs": [
    {
     "name": "stdout",
     "output_type": "stream",
     "text": [
      "1651109255.083661\n"
     ]
    },
    {
     "data": {
      "text/plain": [
       "{1651109255: 1648480967,\n",
       " 1648480967: 1645852679,\n",
       " 1645852679: 1643224391,\n",
       " 1643224391: 1640596103,\n",
       " 1640596103: 1637967815,\n",
       " 1637967815: 1635339527,\n",
       " 1635339527: 1632711239,\n",
       " 1632711239: 1630082951,\n",
       " 1630082951: 1627454663,\n",
       " 1627454663: 1624826375}"
      ]
     },
     "execution_count": 122,
     "metadata": {},
     "output_type": "execute_result"
    }
   ],
   "source": [
    "#Get today's date in UTC timestamp\n",
    "from datetime import timezone\n",
    "dt = datetime.datetime.now(timezone.utc)\n",
    "utc_time = dt.replace(tzinfo=timezone.utc)\n",
    "today = utc_time.timestamp()\n",
    "\n",
    "print(today)    \n",
    "\n",
    "# One year is about 31,536,000 datetime, one month is 2628288. To keep from pulling redundant posts, I'll set a loop that will increase my 'before' field by a month.\n",
    "# It doesn't really matter that this is exact. These subreddits are active, so a one-month span works fine.\n",
    "\n",
    "onemonth = 2628288\n",
    "\n",
    "\n",
    "# Write a loop that creates a dictionary of before:after values to pass into my api function\n",
    "\n",
    "rangelist={}\n",
    "for i in range (0, 10):\n",
    "    after = int(round(today - (onemonth*(i+1)),0)) \n",
    "    before = int(round(today - (onemonth*i), 0)) #When i is 0, \"before\" is set to today.\n",
    "    rangelist[before]=after\n",
    "rangelist"
   ]
  },
  {
   "cell_type": "code",
   "execution_count": 125,
   "id": "2f229224-a566-4a00-938d-4507beb18157",
   "metadata": {},
   "outputs": [
    {
     "data": {
      "text/html": [
       "<div>\n",
       "<style scoped>\n",
       "    .dataframe tbody tr th:only-of-type {\n",
       "        vertical-align: middle;\n",
       "    }\n",
       "\n",
       "    .dataframe tbody tr th {\n",
       "        vertical-align: top;\n",
       "    }\n",
       "\n",
       "    .dataframe thead th {\n",
       "        text-align: right;\n",
       "    }\n",
       "</style>\n",
       "<table border=\"1\" class=\"dataframe\">\n",
       "  <thead>\n",
       "    <tr style=\"text-align: right;\">\n",
       "      <th></th>\n",
       "      <th>author</th>\n",
       "      <th>created_utc</th>\n",
       "      <th>is_created_from_ads_ui</th>\n",
       "      <th>selftext</th>\n",
       "      <th>title</th>\n",
       "      <th>total_awards_received</th>\n",
       "      <th>upvote_ratio</th>\n",
       "      <th>url</th>\n",
       "    </tr>\n",
       "  </thead>\n",
       "  <tbody>\n",
       "    <tr>\n",
       "      <th>0</th>\n",
       "      <td>unit111</td>\n",
       "      <td>1648482436</td>\n",
       "      <td>False</td>\n",
       "      <td>Basically title. I am trying to figure out if ...</td>\n",
       "      <td>Has anybody used Playwright with Behave</td>\n",
       "      <td>0</td>\n",
       "      <td>1.0</td>\n",
       "      <td>https://www.reddit.com/r/learnpython/comments/...</td>\n",
       "    </tr>\n",
       "  </tbody>\n",
       "</table>\n",
       "</div>"
      ],
      "text/plain": [
       "    author  created_utc  is_created_from_ads_ui  \\\n",
       "0  unit111   1648482436                   False   \n",
       "\n",
       "                                            selftext  \\\n",
       "0  Basically title. I am trying to figure out if ...   \n",
       "\n",
       "                                     title  total_awards_received  \\\n",
       "0  Has anybody used Playwright with Behave                      0   \n",
       "\n",
       "   upvote_ratio                                                url  \n",
       "0           1.0  https://www.reddit.com/r/learnpython/comments/...  "
      ]
     },
     "execution_count": 125,
     "metadata": {},
     "output_type": "execute_result"
    }
   ],
   "source": [
    "# Choosing the fields I want to pull from the API\n",
    "fields = ['created_utc', 'title', 'selftext', 'author', 'upvote_ratio',  'is_created_from_ads_ui', 'url', 'crosspost_parent_list', 'total_awards_received']\n",
    "\n",
    "def query(subreddit, num, before, after):   \n",
    "    params = {\n",
    "    'subreddit': subreddit,\n",
    "    'size':num,\n",
    "    'before':before,\n",
    "    'after':after,\n",
    "    'fields':fields}    # defined above\n",
    "    url = 'https://api.pushshift.io/reddit/search/submission/?'\n",
    "    res = requests.get(url, params)\n",
    "\n",
    "    data = res.json()\n",
    "    test = pd.DataFrame(data['data'])\n",
    "    return(test)\n",
    "\n",
    "# Testing my function\n",
    "query('learnpython', 1, 1651108665, 1648480377)"
   ]
  },
  {
   "cell_type": "code",
   "execution_count": 129,
   "id": "bad1064f-4f2d-400d-a939-28bc65a46611",
   "metadata": {},
   "outputs": [
    {
     "name": "stdout",
     "output_type": "stream",
     "text": [
      "did 100\n",
      "did 100\n",
      "did 100\n",
      "did 100\n",
      "did 100\n",
      "did 100\n",
      "did 100\n",
      "did 100\n",
      "did 100\n",
      "did 100\n",
      "<class 'pandas.core.frame.DataFrame'>\n",
      "Int64Index: 999 entries, 0 to 99\n",
      "Data columns (total 9 columns):\n",
      " #   Column                  Non-Null Count  Dtype  \n",
      "---  ------                  --------------  -----  \n",
      " 0   author                  999 non-null    object \n",
      " 1   created_utc             999 non-null    int64  \n",
      " 2   is_created_from_ads_ui  999 non-null    bool   \n",
      " 3   selftext                999 non-null    object \n",
      " 4   title                   999 non-null    object \n",
      " 5   total_awards_received   999 non-null    int64  \n",
      " 6   upvote_ratio            999 non-null    float64\n",
      " 7   url                     999 non-null    object \n",
      " 8   crosspost_parent_list   1 non-null      object \n",
      "dtypes: bool(1), float64(1), int64(2), object(5)\n",
      "memory usage: 71.2+ KB\n"
     ]
    }
   ],
   "source": [
    "# all these parts could be consolidated into a single function probably. how much does it mtter?\n",
    "\n",
    "#Pull and make dataframe for learnpython sub\n",
    "listdfs=[query('learnpython', 100, key, val) for key, val in rangelist.items()]\n",
    "\n",
    "learnpython=pd.concat(listdfs)\n",
    "learnpython.info()"
   ]
  },
  {
   "cell_type": "code",
   "execution_count": 130,
   "id": "3f1b2eed-8e5b-4934-8772-3a64418dd09c",
   "metadata": {},
   "outputs": [
    {
     "name": "stdout",
     "output_type": "stream",
     "text": [
      "<class 'pandas.core.frame.DataFrame'>\n",
      "Int64Index: 955 entries, 0 to 98\n",
      "Data columns (total 9 columns):\n",
      " #   Column                  Non-Null Count  Dtype  \n",
      "---  ------                  --------------  -----  \n",
      " 0   author                  955 non-null    object \n",
      " 1   created_utc             955 non-null    int64  \n",
      " 2   is_created_from_ads_ui  955 non-null    bool   \n",
      " 3   selftext                955 non-null    object \n",
      " 4   title                   955 non-null    object \n",
      " 5   total_awards_received   955 non-null    int64  \n",
      " 6   upvote_ratio            955 non-null    float64\n",
      " 7   url                     955 non-null    object \n",
      " 8   crosspost_parent_list   16 non-null     object \n",
      "dtypes: bool(1), float64(1), int64(2), object(5)\n",
      "memory usage: 68.1+ KB\n"
     ]
    }
   ],
   "source": [
    "#Pull and make dataframe for learnsql sub\n",
    "listdfs=[query('learnsql', 100, key, val) for key, val in rangelist.items()]\n",
    "\n",
    "learnsql=pd.concat(listdfs)\n",
    "learnsql.info()"
   ]
  },
  {
   "cell_type": "code",
   "execution_count": 121,
   "id": "da364654",
   "metadata": {},
   "outputs": [
    {
     "name": "stdout",
     "output_type": "stream",
     "text": [
      "<class 'pandas.core.frame.DataFrame'>\n",
      "Int64Index: 200 entries, 0 to 99\n",
      "Data columns (total 8 columns):\n",
      " #   Column                  Non-Null Count  Dtype  \n",
      "---  ------                  --------------  -----  \n",
      " 0   author                  200 non-null    object \n",
      " 1   created_utc             200 non-null    int64  \n",
      " 2   is_created_from_ads_ui  200 non-null    bool   \n",
      " 3   selftext                200 non-null    object \n",
      " 4   title                   200 non-null    object \n",
      " 5   total_awards_received   200 non-null    int64  \n",
      " 6   upvote_ratio            200 non-null    float64\n",
      " 7   url                     200 non-null    object \n",
      "dtypes: bool(1), float64(1), int64(2), object(4)\n",
      "memory usage: 12.7+ KB\n"
     ]
    }
   ],
   "source": [
    "allofit.info()"
   ]
  },
  {
   "cell_type": "code",
   "execution_count": null,
   "id": "de93f39e",
   "metadata": {},
   "outputs": [],
   "source": [
    "# H2 Cleaning \n",
    "# - Are missing values imputed/handled appropriately?\n",
    "# - Are distributions examined and described?\n",
    "# - Are outliers identified and addressed?\n",
    "# - Are appropriate summary statistics provided?\n",
    "# - Are steps taken during data cleaning and EDA framed appropriately?\n",
    "# - Does the student address whether or not they are likely to be able to answer their problem statement with the provided data given what \n",
    "# - they've discovered during EDA?"
   ]
  },
  {
   "cell_type": "code",
   "execution_count": null,
   "id": "f0d7b9f0",
   "metadata": {},
   "outputs": [],
   "source": [
    "# H4 imports"
   ]
  },
  {
   "cell_type": "code",
   "execution_count": null,
   "id": "fe863496",
   "metadata": {},
   "outputs": [],
   "source": [
    "# Imports"
   ]
  },
  {
   "cell_type": "code",
   "execution_count": 135,
   "id": "255ae4d1-caa7-475c-a5ba-f95dbd2afdf2",
   "metadata": {},
   "outputs": [
    {
     "data": {
      "text/plain": [
       "<bound method Series.unique of 0     False\n",
       "1     False\n",
       "2     False\n",
       "3     False\n",
       "4     False\n",
       "      ...  \n",
       "94    False\n",
       "95    False\n",
       "96    False\n",
       "97    False\n",
       "98    False\n",
       "Name: url, Length: 955, dtype: bool>"
      ]
     },
     "execution_count": 135,
     "metadata": {},
     "output_type": "execute_result"
    }
   ],
   "source": [
    "learnsql['url'].duplicated().unique #no duplicate rows in data"
   ]
  },
  {
   "cell_type": "code",
   "execution_count": 136,
   "id": "83848ea4-1bab-4b21-89ff-faf130c9717c",
   "metadata": {},
   "outputs": [
    {
     "data": {
      "text/plain": [
       "<bound method Series.unique of 0     False\n",
       "1     False\n",
       "2     False\n",
       "3     False\n",
       "4     False\n",
       "      ...  \n",
       "95    False\n",
       "96    False\n",
       "97    False\n",
       "98    False\n",
       "99    False\n",
       "Name: url, Length: 999, dtype: bool>"
      ]
     },
     "execution_count": 136,
     "metadata": {},
     "output_type": "execute_result"
    }
   ],
   "source": [
    "learnpython['url'].duplicated().unique #no duplicate rows in data"
   ]
  },
  {
   "cell_type": "code",
   "execution_count": null,
   "id": "85ed1134",
   "metadata": {},
   "outputs": [],
   "source": [
    "# Check dtypes, string length, etc"
   ]
  },
  {
   "cell_type": "code",
   "execution_count": 138,
   "id": "851aa436-6003-4b62-8e17-31a95da154de",
   "metadata": {},
   "outputs": [
    {
     "data": {
      "text/plain": [
       "author                      0\n",
       "created_utc                 0\n",
       "is_created_from_ads_ui      0\n",
       "selftext                    0\n",
       "title                       0\n",
       "total_awards_received       0\n",
       "upvote_ratio                0\n",
       "url                         0\n",
       "crosspost_parent_list     939\n",
       "dtype: int64"
      ]
     },
     "execution_count": 138,
     "metadata": {},
     "output_type": "execute_result"
    }
   ],
   "source": [
    "learnsql.isna().sum()"
   ]
  },
  {
   "cell_type": "code",
   "execution_count": 139,
   "id": "e9420388-424a-4f29-a929-774336f39e55",
   "metadata": {},
   "outputs": [
    {
     "data": {
      "text/plain": [
       "author                      0\n",
       "created_utc                 0\n",
       "is_created_from_ads_ui      0\n",
       "selftext                    0\n",
       "title                       0\n",
       "total_awards_received       0\n",
       "upvote_ratio                0\n",
       "url                         0\n",
       "crosspost_parent_list     998\n",
       "dtype: int64"
      ]
     },
     "execution_count": 139,
     "metadata": {},
     "output_type": "execute_result"
    }
   ],
   "source": [
    "learnpython.isna().sum()"
   ]
  },
  {
   "cell_type": "code",
   "execution_count": null,
   "id": "83435850",
   "metadata": {},
   "outputs": [],
   "source": [
    "# H2 Exploratory Data Analysis"
   ]
  },
  {
   "cell_type": "code",
   "execution_count": null,
   "id": "0bf60915",
   "metadata": {},
   "outputs": [],
   "source": [
    "# EDA"
   ]
  },
  {
   "cell_type": "code",
   "execution_count": null,
   "id": "48ea8149",
   "metadata": {},
   "outputs": [],
   "source": [
    "#### H4 Chart title md"
   ]
  },
  {
   "cell_type": "code",
   "execution_count": null,
   "id": "28ed81e9",
   "metadata": {},
   "outputs": [],
   "source": [
    "# chart"
   ]
  },
  {
   "cell_type": "code",
   "execution_count": null,
   "id": "aa571ffc",
   "metadata": {},
   "outputs": [],
   "source": [
    "#### H4 Chart title md"
   ]
  },
  {
   "cell_type": "code",
   "execution_count": null,
   "id": "68536d20",
   "metadata": {},
   "outputs": [],
   "source": [
    "# chart"
   ]
  },
  {
   "cell_type": "code",
   "execution_count": null,
   "id": "106411fb-b840-4ac4-9ffb-38cb450673a0",
   "metadata": {},
   "outputs": [],
   "source": [
    "params = {\n",
    "    'subreddit':'news',\n",
    "    'size':50,\n",
    "    'q':'keyword'\n",
    "}"
   ]
  },
  {
   "cell_type": "code",
   "execution_count": null,
   "id": "82976b57-35c2-457e-9748-fd5c9e810c01",
   "metadata": {},
   "outputs": [],
   "source": [
    "# H3 Export df"
   ]
  },
  {
   "cell_type": "code",
   "execution_count": null,
   "id": "832db427",
   "metadata": {},
   "outputs": [],
   "source": [
    "# export df"
   ]
  }
 ],
 "metadata": {
  "kernelspec": {
   "display_name": "Python 3 (ipykernel)",
   "language": "python",
   "name": "python3"
  },
  "language_info": {
   "codemirror_mode": {
    "name": "ipython",
    "version": 3
   },
   "file_extension": ".py",
   "mimetype": "text/x-python",
   "name": "python",
   "nbconvert_exporter": "python",
   "pygments_lexer": "ipython3",
   "version": "3.9.7"
  }
 },
 "nbformat": 4,
 "nbformat_minor": 5
}
