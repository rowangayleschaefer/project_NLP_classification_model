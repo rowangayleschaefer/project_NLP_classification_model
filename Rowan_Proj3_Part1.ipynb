{
 "cells": [
  {
   "cell_type": "markdown",
   "id": "6d23098b-9514-4208-93f2-9e8ae610ff29",
   "metadata": {},
   "source": [
    "# Reddit NLP Classification Analysis"
   ]
  },
  {
   "cell_type": "markdown",
   "id": "99cbba96-0a04-44f9-b6d8-5b43a6decb12",
   "metadata": {},
   "source": [
    "## Part I: Data Collection, Cleaning, & EDA"
   ]
  },
  {
   "cell_type": "markdown",
   "id": "39f1f368-b7e2-485a-8c39-483e6798eba4",
   "metadata": {},
   "source": [
    "<img src='./images/pysql.png'>"
   ]
  },
  {
   "cell_type": "markdown",
   "id": "8a080f61-5642-4188-b25b-7c130c50668c",
   "metadata": {},
   "source": [
    "<font color=white>.</font>"
   ]
  },
  {
   "cell_type": "markdown",
   "id": "46b4032f-01b6-407d-92dc-b8fd1806bd2c",
   "metadata": {},
   "source": [
    "run me! ↓"
   ]
  },
  {
   "cell_type": "code",
   "execution_count": 318,
   "id": "79401922-d9f7-4171-960e-9736fb478dbf",
   "metadata": {},
   "outputs": [
    {
     "data": {
      "text/html": [
       "<style>\n",
       "\n",
       "#notebook-container{\n",
       "    box-shadow: none !important;\n",
       "}\n",
       "\n",
       ".container {\n",
       "    width: 80% !important;\n",
       "}\n",
       "\n",
       ".notebook_app {\n",
       "    background: #fff !important;\n",
       "}\n",
       "\n",
       "body > #header {\n",
       "    background:  #f57b00;\n",
       "}\n",
       "\n",
       ".navbar-default {\n",
       "    background: none;\n",
       "    border: none;\n",
       "}\n",
       "\n",
       ".navbar-default .navbar-nav > li > a, #kernel_indicator {\n",
       "    color: rgba(255, 255, 255, 0.25);\n",
       "    border-bottom: 2px solid #f57b00;\n",
       "    transition: all 0.25s;\n",
       "}\n",
       "\n",
       ".navbar-default .navbar-nav > li > a:hover, #kernel_indicator:hover {\n",
       "    border-bottom: 2px solid #fff;\n",
       "    color: rgba(255, 255, 255, 1);\n",
       "}\n",
       "\n",
       "div.input_area {\n",
       "    border: none;\n",
       "    border-radius: 0;\n",
       "    background: #f7f7f7;\n",
       "    line-height: 1.5em;\n",
       "    margin: 0.5em 0;\n",
       "    padding: 0;\n",
       "}\n",
       "\n",
       "div.cell {\n",
       "    transition: all 0.25s;\n",
       "    border: none;\n",
       "    position: relative;\n",
       "    top: 0;\n",
       "}\n",
       "\n",
       "div.cell.selected, div.cell.selected.jupyter-soft-selected {\n",
       "    border: none;\n",
       "    background: transparent;\n",
       "    box-shadow: 0 6px 18px #aaa;\n",
       "    z-index: 10;\n",
       "    top: -10px;\n",
       "}\n",
       "\n",
       "\n",
       "div#pager {\n",
       "    opacity: 0.85;\n",
       "    z-index: 9999;\n",
       "}\n",
       "\n",
       ".navbar-default .navbar-nav > .open > a, .navbar-default .navbar-nav > .open > a:hover, .navbar-default .navbar-nav > .open > a:focus {\n",
       "    color: #fff;\n",
       "    background-color: transparent;\n",
       "    border-bottom: 2px solid #fff;\n",
       "}\n",
       "\n",
       ".dropdown-menu {\n",
       "    z-index: 999999 !important;\n",
       "    background-color: #f57b00;\n",
       "    opacity: 0.95;\n",
       "}\n",
       "\n",
       ".dropdown-menu > li > a {\n",
       "    color: #fff;\n",
       "}\n",
       "\n",
       ".dropdown-menu > .disabled > a, .dropdown-menu > .disabled > a:hover, .dropdown-menu > .disabled > a:focus {\n",
       "    color: rgba(255, 255, 255, 0.25);\n",
       "}\n",
       "\n",
       ".navbar-nav > li > .dropdown-menu {\n",
       "    border: none;\n",
       "    box-shadow: none;\n",
       "}\n",
       "\n",
       "div.output_wrapper {\n",
       "    background: #eee;\n",
       "}\n",
       "\n",
       "div.cell.unselected div.output_area{\n",
       "    margin-top: 12em;\n",
       "    box-shadow: inset 0 0 25px #aaa;\n",
       "    padding: 1em 0;\n",
       "    overflow-x: auto;\n",
       "    transition: all 0.25s;\n",
       "}\n",
       "\n",
       "div.cell.selected .output_area {\n",
       "    margin-top: 12em;\n",
       "    box-shadow: inset 0 0 5px #aaa;\n",
       "    padding: 0.5em 0;\n",
       "    overflow-x: auto;\n",
       "}\n",
       "\n",
       "div.cell.selected .div.output_scroll {\n",
       "    box-shadow: none;\n",
       "}\n",
       "\n",
       "div.output_wrapper {\n",
       "    margin: 0 0 1em;\n",
       "    transition: all 0.25s;\n",
       "}\n",
       "\n",
       "div.cell.selected .output_wrapper {\n",
       "    margin-bottom: 20em;\n",
       "}\n",
       "\n",
       "\n",
       ".dataframe {\n",
       "    background: #fff;\n",
       "    box-shadow: 0px 1px 2px #bbb;\n",
       "}\n",
       "\n",
       ".dataframe thead th, .dataframe tbody td {\n",
       "    text-align: right;\n",
       "    padding: 1em;\n",
       "}\n",
       "\n",
       ".output, div.output_scroll {\n",
       "    box-shadow: none;\n",
       "} \n",
       "\n",
       "\n",
       ".rendered_html pre code {\n",
       "    background: #f4f4f4;\n",
       "    border: 1px solid #ddd;\n",
       "    border-left: 3px solid #2a7bbd;\n",
       "    color: #444;\n",
       "    page-break-inside: avoid;\n",
       "    font-family: monospace;\n",
       "    font-size: 15px;\n",
       "    line-height: 1.6;\n",
       "    margin-bottom: 1.6em;\n",
       "    max-width: 100%;\n",
       "    overflow: auto;\n",
       "    padding: 1em 1.5em;\n",
       "    display: block;\n",
       "    word-wrap: break-word;\n",
       "}\n",
       "\n",
       "h1, .h1 {\n",
       "    font-size: 33px;\n",
       "    font-family: \"Trebuchet MS\";\n",
       "    font-size: 2.5em !important;\n",
       "    color: #2a7bbd;\n",
       "\n",
       "}\n",
       "\n",
       "h2, .h2 {\n",
       "    font-size: 20px;\n",
       "    font-family: \"Trebuchet MS\";\n",
       "    font-size: 2.5em !important;\n",
       "    color: #2a7bbd;\n",
       "    margin-top: 50em;\n",
       "\n",
       "}\n",
       "\n",
       "h3, .h3 {\n",
       "    font-size: 11px;\n",
       "    font-size: 1.5em !important;\n",
       "    color: black;\n",
       "    margin-top: 50em;\n",
       "}\n",
       "\n",
       "h4, .h4 {\n",
       "    font-size: 9px;\n",
       "    font-size: 1.2em !important;\n",
       "    color: black;\n",
       "    margin-top: 50em;\n",
       "}\n",
       "\n",
       "</style>"
      ],
      "text/plain": [
       "<IPython.core.display.HTML object>"
      ]
     },
     "execution_count": 318,
     "metadata": {},
     "output_type": "execute_result"
    }
   ],
   "source": [
    "# css notebook\n",
    "from IPython.core.display import HTML\n",
    "def css_styling():\n",
    "    styles = open(\"../styles/custom.css\", \"r\").read()\n",
    "    return HTML(styles)\n",
    "css_styling()"
   ]
  },
  {
   "cell_type": "markdown",
   "id": "66c197b1-ad46-4f3e-8178-fed834bd8964",
   "metadata": {},
   "source": [
    "<font color=white>.</font>"
   ]
  },
  {
   "cell_type": "markdown",
   "id": "d3c71e3d-bdb9-4894-94c8-521383582b3e",
   "metadata": {},
   "source": [
    "#### Executive Summary"
   ]
  },
  {
   "cell_type": "markdown",
   "id": "ccfee69c-8e17-44ac-99f0-d4b4816950d6",
   "metadata": {},
   "source": [
    "The goal of this analysis is to classify text posts as either belonging to one subreddit or another, using NLP. \n",
    "\n",
    "Success will be evaluated using the model's accuracy score in correctly classifying the posts, with a second goal of trying many models to obtain the highest accuracy score possible."
   ]
  },
  {
   "cell_type": "markdown",
   "id": "30adde4c-4c8c-4488-a3ca-b431e24c51bf",
   "metadata": {
    "jp-MarkdownHeadingCollapsed": true,
    "tags": []
   },
   "source": [
    "#### Subreddits\n",
    "\n",
    "r/learnpython is a subreddit for people who are learning python, mostly filled with resources and questions. r/learnsql is similar, except for people who are learning sql. Both subreddits are fairly active, but r/learnpython is much more popular; it has 613k subscribers, compared to 17.7k subscribers for r/learnsql.\n",
    "\n",
    "Both subreddits include fairly technical content and frequent code snippets, which makes it an interesting choice for a classification analysis. It's likely that classification could be done in multiple ways: \n",
    "\n",
    "* using the text content only (ignoring special characters), \n",
    "* using only special characters and pattern/frequency of special characters, as they make up the syntax of each language."
   ]
  },
  {
   "cell_type": "markdown",
   "id": "e36f62f1-1233-4edf-ba2a-fd91340616a8",
   "metadata": {},
   "source": [
    "#### Research Questions"
   ]
  },
  {
   "cell_type": "markdown",
   "id": "79661de9-eb11-4921-bde7-a61dca1fa322",
   "metadata": {},
   "source": [
    "* What preprocessing steps are best for creating a classification model with high accuracy?\n",
    "* Which classification models and hyperparameters lead to the highest accuracy score?"
   ]
  },
  {
   "cell_type": "markdown",
   "id": "17a0098d-e465-4c1a-8b1e-a44fab6b40dd",
   "metadata": {},
   "source": [
    "<font color=white>.</font>"
   ]
  },
  {
   "cell_type": "markdown",
   "id": "fa57f258-3d07-4ab3-b10c-ce20baf49916",
   "metadata": {},
   "source": [
    "#### Imports"
   ]
  },
  {
   "cell_type": "code",
   "execution_count": 18,
   "id": "664bd2f4",
   "metadata": {},
   "outputs": [],
   "source": [
    "import requests\n",
    "import pandas as pd\n",
    "import json\n",
    "import csv\n",
    "import time\n",
    "import datetime"
   ]
  },
  {
   "cell_type": "markdown",
   "id": "846aae22-2dec-40e1-9022-586a34d5ae5f",
   "metadata": {},
   "source": [
    "<font color=white>.</font>"
   ]
  },
  {
   "cell_type": "markdown",
   "id": "11959394-8e3e-44d7-895d-1c45a474da5a",
   "metadata": {},
   "source": [
    "#### Testing API"
   ]
  },
  {
   "cell_type": "markdown",
   "id": "52583cc7-121f-4b64-a687-8e9a22af2572",
   "metadata": {},
   "source": [
    "Reddit's API allows 60 requests per minute. Here is the basic process to pull from the reddit API, using the <code>requests</code> library."
   ]
  },
  {
   "cell_type": "code",
   "execution_count": 21,
   "id": "2fb1a681",
   "metadata": {},
   "outputs": [],
   "source": [
    "url = 'https://api.pushshift.io/reddit/search/submission'\n",
    "\n",
    "params = {\n",
    "'subreddit': 'boardgames',\n",
    "'size':100}\n",
    "\n",
    "res = requests.get(url, params)\n",
    "res.status_code"
   ]
  },
  {
   "cell_type": "code",
   "execution_count": 24,
   "id": "abb44335",
   "metadata": {},
   "outputs": [],
   "source": [
    "data=res.json()\n",
    "posts = data['data']\n",
    "len(posts)\n",
    "df = pd.DataFrame(posts)"
   ]
  },
  {
   "cell_type": "markdown",
   "id": "916119fb-4b47-4ecb-8c1e-3b79be4c0847",
   "metadata": {},
   "source": [
    "<font color=white>.</font>"
   ]
  },
  {
   "cell_type": "markdown",
   "id": "11324c09-b9bd-4445-8ad1-de7dd5df8bb0",
   "metadata": {
    "jp-MarkdownHeadingCollapsed": true,
    "tags": []
   },
   "source": [
    "Here is all the data that the Reddit API makes available to us:"
   ]
  },
  {
   "cell_type": "code",
   "execution_count": 25,
   "id": "5e725d60",
   "metadata": {},
   "outputs": [
    {
     "data": {
      "text/plain": [
       "Index(['all_awardings', 'allow_live_comments', 'author',\n",
       "       'author_flair_css_class', 'author_flair_richtext', 'author_flair_text',\n",
       "       'author_flair_type', 'author_fullname', 'author_is_blocked',\n",
       "       'author_patreon_flair', 'author_premium', 'awarders', 'can_mod_post',\n",
       "       'contest_mode', 'created_utc', 'domain', 'full_link', 'gildings', 'id',\n",
       "       'is_created_from_ads_ui', 'is_crosspostable', 'is_meta',\n",
       "       'is_original_content', 'is_reddit_media_domain', 'is_robot_indexable',\n",
       "       'is_self', 'is_video', 'link_flair_background_color',\n",
       "       'link_flair_richtext', 'link_flair_text_color', 'link_flair_type',\n",
       "       'locked', 'media_only', 'no_follow', 'num_comments', 'num_crossposts',\n",
       "       'over_18', 'parent_whitelist_status', 'permalink', 'pinned', 'pwls',\n",
       "       'retrieved_on', 'score', 'selftext', 'send_replies', 'spoiler',\n",
       "       'stickied', 'subreddit', 'subreddit_id', 'subreddit_subscribers',\n",
       "       'subreddit_type', 'thumbnail', 'title', 'total_awards_received',\n",
       "       'treatment_tags', 'upvote_ratio', 'url', 'whitelist_status', 'wls',\n",
       "       'link_flair_template_id', 'link_flair_text', 'link_flair_css_class',\n",
       "       'media', 'media_embed', 'post_hint', 'preview', 'secure_media',\n",
       "       'secure_media_embed', 'thumbnail_height', 'thumbnail_width',\n",
       "       'url_overridden_by_dest', 'removed_by_category', 'crosspost_parent',\n",
       "       'crosspost_parent_list', 'gallery_data', 'is_gallery', 'media_metadata',\n",
       "       'author_flair_template_id', 'author_flair_text_color',\n",
       "       'author_flair_background_color', 'suggested_sort'],\n",
       "      dtype='object')"
      ]
     },
     "execution_count": 25,
     "metadata": {},
     "output_type": "execute_result"
    }
   ],
   "source": [
    "df.columns"
   ]
  },
  {
   "cell_type": "markdown",
   "id": "d32b5536-3cc0-44ef-9888-44c04e822d15",
   "metadata": {},
   "source": [
    "<font color=white>.</font>"
   ]
  },
  {
   "cell_type": "markdown",
   "id": "e223fc45-2df7-4ade-9392-1588b2d5e9f7",
   "metadata": {},
   "source": [
    "Looking at the 'subreddit', 'selftext', and 'title' categories of the data I pulled."
   ]
  },
  {
   "cell_type": "code",
   "execution_count": 26,
   "id": "2e147686",
   "metadata": {},
   "outputs": [
    {
     "data": {
      "text/html": [
       "<div>\n",
       "<style scoped>\n",
       "    .dataframe tbody tr th:only-of-type {\n",
       "        vertical-align: middle;\n",
       "    }\n",
       "\n",
       "    .dataframe tbody tr th {\n",
       "        vertical-align: top;\n",
       "    }\n",
       "\n",
       "    .dataframe thead th {\n",
       "        text-align: right;\n",
       "    }\n",
       "</style>\n",
       "<table border=\"1\" class=\"dataframe\">\n",
       "  <thead>\n",
       "    <tr style=\"text-align: right;\">\n",
       "      <th></th>\n",
       "      <th>subreddit</th>\n",
       "      <th>selftext</th>\n",
       "      <th>title</th>\n",
       "    </tr>\n",
       "  </thead>\n",
       "  <tbody>\n",
       "    <tr>\n",
       "      <th>0</th>\n",
       "      <td>boardgames</td>\n",
       "      <td>As a young, 19 year old woman, I felt down upo...</td>\n",
       "      <td>The board game community saved my life</td>\n",
       "    </tr>\n",
       "    <tr>\n",
       "      <th>1</th>\n",
       "      <td>boardgames</td>\n",
       "      <td>I am looking at getting my partner a game mat ...</td>\n",
       "      <td>Suggestion: Tabletop Board Game Mat</td>\n",
       "    </tr>\n",
       "    <tr>\n",
       "      <th>2</th>\n",
       "      <td>boardgames</td>\n",
       "      <td>So I'm on the hunt, no pun intended, for a rea...</td>\n",
       "      <td>Best murder mystery co-op games (not board games)</td>\n",
       "    </tr>\n",
       "    <tr>\n",
       "      <th>3</th>\n",
       "      <td>boardgames</td>\n",
       "      <td></td>\n",
       "      <td>I bought a retro chess computer! Enterprise S ...</td>\n",
       "    </tr>\n",
       "    <tr>\n",
       "      <th>4</th>\n",
       "      <td>boardgames</td>\n",
       "      <td></td>\n",
       "      <td>You play r/Ark_Nova? Prove it, you zoo-buildin...</td>\n",
       "    </tr>\n",
       "  </tbody>\n",
       "</table>\n",
       "</div>"
      ],
      "text/plain": [
       "    subreddit                                           selftext  \\\n",
       "0  boardgames  As a young, 19 year old woman, I felt down upo...   \n",
       "1  boardgames  I am looking at getting my partner a game mat ...   \n",
       "2  boardgames  So I'm on the hunt, no pun intended, for a rea...   \n",
       "3  boardgames                                                      \n",
       "4  boardgames                                                      \n",
       "\n",
       "                                               title  \n",
       "0             The board game community saved my life  \n",
       "1                Suggestion: Tabletop Board Game Mat  \n",
       "2  Best murder mystery co-op games (not board games)  \n",
       "3  I bought a retro chess computer! Enterprise S ...  \n",
       "4  You play r/Ark_Nova? Prove it, you zoo-buildin...  "
      ]
     },
     "execution_count": 26,
     "metadata": {},
     "output_type": "execute_result"
    }
   ],
   "source": [
    "df[['subreddit', 'selftext', 'title']].head()"
   ]
  },
  {
   "cell_type": "markdown",
   "id": "ccca32f3-bae2-4ffe-9f46-8a1a59ad1001",
   "metadata": {},
   "source": [
    "<font color=white>.</font>"
   ]
  },
  {
   "cell_type": "markdown",
   "id": "a92c74a5-6af9-4da2-9c3f-b353e255dd7a",
   "metadata": {},
   "source": [
    "## Data Collection"
   ]
  },
  {
   "cell_type": "markdown",
   "id": "c115c80a-239d-45e2-98f9-5b4f9c83364f",
   "metadata": {},
   "source": [
    "The reddit API only allows you to pull 100 rows of data per request. In order to pull more without ending up with duplicate data, you need a function that specifies 'before' and 'after' dates for the date of each post.\n",
    "\n",
    "To avoid converting timestamps and adding dates, I calculated the 'before' and 'after' parameters based off UTC time. It doesn't really matter that these are exact. These subreddits are active, so I found that a one-month span for around 100 posts worked well even if it didn't capture every post."
   ]
  },
  {
   "cell_type": "code",
   "execution_count": 45,
   "id": "c219e9a6-585e-4833-bcdb-a8c76be335bb",
   "metadata": {
    "tags": []
   },
   "outputs": [
    {
     "name": "stdout",
     "output_type": "stream",
     "text": [
      "1651443724.311495\n"
     ]
    }
   ],
   "source": [
    "# Get today's date in UTC timestamp\n",
    "# UTC datetime is calculated in \"seconds elapsed\", usually seconds elapsed since a specific date in 1970. \n",
    "# One year is about 31,536,000 seconds, one month is 2,628,288.\n",
    "\n",
    "from datetime import timezone\n",
    "dt = datetime.datetime.now(timezone.utc)\n",
    "utc_time = dt.replace(tzinfo=timezone.utc)\n",
    "today = utc_time.timestamp()\n",
    "\n",
    "print(today)    "
   ]
  },
  {
   "cell_type": "markdown",
   "id": "9e9cf86f-4670-44df-a8ca-30dc223e4007",
   "metadata": {},
   "source": [
    "<font color=white>.</font>"
   ]
  },
  {
   "cell_type": "markdown",
   "id": "620a9ec0-7a6a-46ca-9068-f35809dce8cf",
   "metadata": {},
   "source": [
    "I wrote a function that generates a dictionary of before:after timestamp ranges to pass into my api function."
   ]
  },
  {
   "cell_type": "code",
   "execution_count": 36,
   "id": "ffb24510-f6e7-4525-b5c7-60a75a717a46",
   "metadata": {
    "tags": []
   },
   "outputs": [
    {
     "name": "stdout",
     "output_type": "stream",
     "text": [
      "1651442009.675046\n"
     ]
    },
    {
     "data": {
      "text/plain": [
       "{1651442010: 1648822010, 1648822010: 1646202010, 1646202010: 1643582010}"
      ]
     },
     "execution_count": 36,
     "metadata": {},
     "output_type": "execute_result"
    }
   ],
   "source": [
    "def range_generator(num_months):\n",
    "    rangelist={}\n",
    "    onemonth = 2620000\n",
    "    for i in range (0, num_months):\n",
    "        after = int(round(today - (onemonth*(i+1)),0)) \n",
    "        before = int(round(today - (onemonth*i), 0)) #When i is 0, \"before\" is set to today.\n",
    "        rangelist[before]=after\n",
    "    return(rangelist)\n",
    "\n",
    "range_generator(3)"
   ]
  },
  {
   "cell_type": "markdown",
   "id": "4582cc2f-b431-4d3a-9799-fc0900c65b1c",
   "metadata": {},
   "source": [
    "<font color=white>.</font>"
   ]
  },
  {
   "cell_type": "markdown",
   "id": "ce2850c0-c61c-437f-a076-fe9de9c73884",
   "metadata": {},
   "source": [
    "Next I chose the fields I wanted to pull from the API, and wrote a function to automate api requests."
   ]
  },
  {
   "cell_type": "code",
   "execution_count": 37,
   "id": "2f229224-a566-4a00-938d-4507beb18157",
   "metadata": {},
   "outputs": [
    {
     "data": {
      "text/html": [
       "<div>\n",
       "<style scoped>\n",
       "    .dataframe tbody tr th:only-of-type {\n",
       "        vertical-align: middle;\n",
       "    }\n",
       "\n",
       "    .dataframe tbody tr th {\n",
       "        vertical-align: top;\n",
       "    }\n",
       "\n",
       "    .dataframe thead th {\n",
       "        text-align: right;\n",
       "    }\n",
       "</style>\n",
       "<table border=\"1\" class=\"dataframe\">\n",
       "  <thead>\n",
       "    <tr style=\"text-align: right;\">\n",
       "      <th></th>\n",
       "      <th>author</th>\n",
       "      <th>created_utc</th>\n",
       "      <th>id</th>\n",
       "      <th>is_created_from_ads_ui</th>\n",
       "      <th>num_comments</th>\n",
       "      <th>score</th>\n",
       "      <th>selftext</th>\n",
       "      <th>subreddit</th>\n",
       "      <th>title</th>\n",
       "      <th>total_awards_received</th>\n",
       "      <th>upvote_ratio</th>\n",
       "      <th>url</th>\n",
       "    </tr>\n",
       "  </thead>\n",
       "  <tbody>\n",
       "    <tr>\n",
       "      <th>0</th>\n",
       "      <td>unit111</td>\n",
       "      <td>1648482436</td>\n",
       "      <td>tqc9ff</td>\n",
       "      <td>False</td>\n",
       "      <td>0</td>\n",
       "      <td>1</td>\n",
       "      <td>Basically title. I am trying to figure out if ...</td>\n",
       "      <td>learnpython</td>\n",
       "      <td>Has anybody used Playwright with Behave</td>\n",
       "      <td>0</td>\n",
       "      <td>1.0</td>\n",
       "      <td>https://www.reddit.com/r/learnpython/comments/...</td>\n",
       "    </tr>\n",
       "  </tbody>\n",
       "</table>\n",
       "</div>"
      ],
      "text/plain": [
       "    author  created_utc      id  is_created_from_ads_ui  num_comments  score  \\\n",
       "0  unit111   1648482436  tqc9ff                   False             0      1   \n",
       "\n",
       "                                            selftext    subreddit  \\\n",
       "0  Basically title. I am trying to figure out if ...  learnpython   \n",
       "\n",
       "                                     title  total_awards_received  \\\n",
       "0  Has anybody used Playwright with Behave                      0   \n",
       "\n",
       "   upvote_ratio                                                url  \n",
       "0           1.0  https://www.reddit.com/r/learnpython/comments/...  "
      ]
     },
     "execution_count": 37,
     "metadata": {},
     "output_type": "execute_result"
    }
   ],
   "source": [
    "# Choosing the fields I want to pull from the API\n",
    "fields = ['id', 'created_utc', 'title', 'selftext', 'author', 'upvote_ratio', 'score', 'num_comments', 'subreddit', 'total_awards_received', 'is_created_from_ads_ui', 'url']\n",
    "\n",
    "def query(subreddit, num, before, after):   \n",
    "    params = {\n",
    "    'subreddit': subreddit,\n",
    "    'size':num,\n",
    "    'before':before,\n",
    "    'after':after,\n",
    "    'fields':fields}    # defined above\n",
    "    url = 'https://api.pushshift.io/reddit/search/submission/?'\n",
    "    res = requests.get(url, params)\n",
    "\n",
    "    data = res.json()\n",
    "    test = pd.DataFrame(data['data'])\n",
    "    return(test)\n",
    "\n",
    "# Testing my function\n",
    "query('learnpython', 1, 1651108665, 1648480377)"
   ]
  },
  {
   "cell_type": "markdown",
   "id": "bb87ac48-267e-4ff5-a685-567ba7f20249",
   "metadata": {},
   "source": [
    "<font color=white>.</font>"
   ]
  },
  {
   "cell_type": "markdown",
   "id": "a4e9fd4c-0cc5-4c5f-ab81-0c8cbf169e0c",
   "metadata": {},
   "source": [
    "I then iterated over my before:after dictionary and passed key:value pairs into the api function to set my time range.  \n",
    "\n",
    "Due to differences in each subreddit's activity, I had to set my range of time to much longer for r/learnsql in order to avoid having unbalanced data. I chose to do this in a loop instead of a list comprehension so I could add sleep time and avoid overwhelming the API."
   ]
  },
  {
   "cell_type": "code",
   "execution_count": 46,
   "id": "bad1064f-4f2d-400d-a939-28bc65a46611",
   "metadata": {
    "collapsed": true,
    "jupyter": {
     "outputs_hidden": true
    },
    "tags": []
   },
   "outputs": [
    {
     "name": "stdout",
     "output_type": "stream",
     "text": [
      "pulled 100 rows\n",
      "pulled 100 rows\n",
      "pulled 100 rows\n",
      "pulled 100 rows\n",
      "pulled 100 rows\n",
      "pulled 100 rows\n",
      "pulled 100 rows\n",
      "pulled 100 rows\n",
      "pulled 100 rows\n",
      "pulled 100 rows\n",
      "pulled 100 rows\n",
      "pulled 100 rows\n",
      "pulled 100 rows\n",
      "pulled 100 rows\n",
      "pulled 100 rows\n",
      "pulled 100 rows\n",
      "pulled 100 rows\n",
      "pulled 100 rows\n",
      "pulled 100 rows\n",
      "pulled 100 rows\n",
      "pulled 100 rows\n",
      "pulled 100 rows\n",
      "pulled 100 rows\n",
      "pulled 100 rows\n",
      "pulled 100 rows\n",
      "pulled 100 rows\n",
      "pulled 100 rows\n",
      "pulled 100 rows\n",
      "pulled 100 rows\n",
      "pulled 100 rows\n",
      "pulled 100 rows\n",
      "pulled 100 rows\n",
      "pulled 100 rows\n",
      "pulled 100 rows\n",
      "<class 'pandas.core.frame.DataFrame'>\n",
      "Int64Index: 3396 entries, 0 to 98\n",
      "Data columns (total 12 columns):\n",
      " #   Column                  Non-Null Count  Dtype  \n",
      "---  ------                  --------------  -----  \n",
      " 0   author                  3396 non-null   object \n",
      " 1   created_utc             3396 non-null   int64  \n",
      " 2   id                      3396 non-null   object \n",
      " 3   is_created_from_ads_ui  1098 non-null   object \n",
      " 4   num_comments            3396 non-null   int64  \n",
      " 5   score                   3396 non-null   int64  \n",
      " 6   selftext                3388 non-null   object \n",
      " 7   subreddit               3396 non-null   object \n",
      " 8   title                   3396 non-null   object \n",
      " 9   total_awards_received   3396 non-null   int64  \n",
      " 10  upvote_ratio            2398 non-null   float64\n",
      " 11  url                     3396 non-null   object \n",
      "dtypes: float64(1), int64(4), object(7)\n",
      "memory usage: 344.9+ KB\n"
     ]
    }
   ],
   "source": [
    "# Pull and make dataframe for learnpython sub\n",
    "\n",
    "# List comp version sometimes works and sometimes doesn't, possibly because I can't add sleep time. I've commented it out for now\n",
    "# listdfs=[query('learnpython', 100, key, val) for key, val in rangelist.items()]\n",
    "\n",
    "listdfs=[]\n",
    "for key, val in range_generator(34).items():\n",
    "    i = query('learnpython', 100, key, val) \n",
    "    print('pulled 100 rows')\n",
    "    listdfs.append(i)\n",
    "    time.sleep(10)\n",
    "\n",
    "learnpython=pd.concat(listdfs)\n",
    "learnpython.info()"
   ]
  },
  {
   "cell_type": "code",
   "execution_count": 50,
   "id": "b1b349f8-3fe6-4cc1-ada2-212141bb34a0",
   "metadata": {},
   "outputs": [
    {
     "name": "stdout",
     "output_type": "stream",
     "text": [
      "<class 'pandas.core.frame.DataFrame'>\n",
      "Int64Index: 3396 entries, 0 to 98\n",
      "Data columns (total 12 columns):\n",
      " #   Column                  Non-Null Count  Dtype  \n",
      "---  ------                  --------------  -----  \n",
      " 0   author                  3396 non-null   object \n",
      " 1   created_utc             3396 non-null   int64  \n",
      " 2   id                      3396 non-null   object \n",
      " 3   is_created_from_ads_ui  1098 non-null   object \n",
      " 4   num_comments            3396 non-null   int64  \n",
      " 5   score                   3396 non-null   int64  \n",
      " 6   selftext                3388 non-null   object \n",
      " 7   subreddit               3396 non-null   object \n",
      " 8   title                   3396 non-null   object \n",
      " 9   total_awards_received   3396 non-null   int64  \n",
      " 10  upvote_ratio            2398 non-null   float64\n",
      " 11  url                     3396 non-null   object \n",
      "dtypes: float64(1), int64(4), object(7)\n",
      "memory usage: 344.9+ KB\n"
     ]
    }
   ],
   "source": [
    "learnpython.info()"
   ]
  },
  {
   "cell_type": "markdown",
   "id": "7452f1be-4771-4c4d-952f-5af62e7a8744",
   "metadata": {},
   "source": [
    "<font color=white>.</font>"
   ]
  },
  {
   "cell_type": "code",
   "execution_count": 44,
   "id": "3f1b2eed-8e5b-4934-8772-3a64418dd09c",
   "metadata": {
    "collapsed": true,
    "jupyter": {
     "outputs_hidden": true
    },
    "tags": []
   },
   "outputs": [
    {
     "name": "stdout",
     "output_type": "stream",
     "text": [
      "pulled 100 rows\n",
      "pulled 100 rows\n",
      "pulled 100 rows\n",
      "pulled 100 rows\n",
      "pulled 100 rows\n",
      "pulled 100 rows\n",
      "pulled 100 rows\n",
      "pulled 100 rows\n",
      "pulled 100 rows\n",
      "pulled 100 rows\n",
      "pulled 100 rows\n",
      "pulled 100 rows\n",
      "pulled 100 rows\n",
      "pulled 100 rows\n",
      "pulled 100 rows\n",
      "pulled 100 rows\n",
      "pulled 100 rows\n",
      "pulled 100 rows\n",
      "pulled 100 rows\n",
      "pulled 100 rows\n",
      "pulled 100 rows\n",
      "pulled 100 rows\n",
      "pulled 100 rows\n",
      "pulled 100 rows\n",
      "pulled 100 rows\n",
      "pulled 100 rows\n",
      "pulled 100 rows\n",
      "pulled 100 rows\n",
      "pulled 100 rows\n",
      "pulled 100 rows\n",
      "pulled 100 rows\n",
      "pulled 100 rows\n",
      "pulled 100 rows\n",
      "pulled 100 rows\n",
      "pulled 100 rows\n",
      "pulled 100 rows\n",
      "pulled 100 rows\n",
      "pulled 100 rows\n",
      "pulled 100 rows\n",
      "pulled 100 rows\n",
      "pulled 100 rows\n",
      "pulled 100 rows\n",
      "pulled 100 rows\n",
      "pulled 100 rows\n",
      "pulled 100 rows\n",
      "pulled 100 rows\n",
      "pulled 100 rows\n",
      "pulled 100 rows\n",
      "pulled 100 rows\n",
      "pulled 100 rows\n",
      "pulled 100 rows\n",
      "pulled 100 rows\n",
      "pulled 100 rows\n",
      "pulled 100 rows\n",
      "pulled 100 rows\n",
      "pulled 100 rows\n",
      "pulled 100 rows\n",
      "pulled 100 rows\n",
      "pulled 100 rows\n",
      "pulled 100 rows\n",
      "pulled 100 rows\n",
      "pulled 100 rows\n",
      "pulled 100 rows\n",
      "pulled 100 rows\n",
      "pulled 100 rows\n",
      "pulled 100 rows\n",
      "pulled 100 rows\n",
      "pulled 100 rows\n",
      "pulled 100 rows\n",
      "pulled 100 rows\n",
      "pulled 100 rows\n",
      "pulled 100 rows\n",
      "pulled 100 rows\n",
      "pulled 100 rows\n",
      "pulled 100 rows\n",
      "pulled 100 rows\n",
      "pulled 100 rows\n",
      "pulled 100 rows\n",
      "pulled 100 rows\n",
      "pulled 100 rows\n",
      "<class 'pandas.core.frame.DataFrame'>\n",
      "Int64Index: 3407 entries, 0 to 10\n",
      "Data columns (total 12 columns):\n",
      " #   Column                  Non-Null Count  Dtype  \n",
      "---  ------                  --------------  -----  \n",
      " 0   author                  3407 non-null   object \n",
      " 1   created_utc             3407 non-null   int64  \n",
      " 2   id                      3407 non-null   object \n",
      " 3   is_created_from_ads_ui  1030 non-null   object \n",
      " 4   num_comments            3407 non-null   int64  \n",
      " 5   score                   3407 non-null   int64  \n",
      " 6   selftext                3407 non-null   object \n",
      " 7   subreddit               3407 non-null   object \n",
      " 8   title                   3407 non-null   object \n",
      " 9   total_awards_received   2580 non-null   float64\n",
      " 10  upvote_ratio            1999 non-null   float64\n",
      " 11  url                     3407 non-null   object \n",
      "dtypes: float64(2), int64(3), object(7)\n",
      "memory usage: 346.0+ KB\n"
     ]
    }
   ],
   "source": [
    "# Pull and make dataframe for learnsql sub\n",
    "# List comp version sometimes works and sometimes doesn't, possibly because I can't add sleep time. I've commented it out for now\n",
    "# listdfs=[query('learnsql', 100, key, val) for key, val in rangelist.items()]\n",
    "\n",
    "listdfs=[]\n",
    "for key, val in range_generator(80).items():\n",
    "    i = query('learnsql', 100, key, val) \n",
    "    print('pulled 100 rows')\n",
    "    listdfs.append(i)\n",
    "    time.sleep(10)\n",
    "\n",
    "learnsql=pd.concat(listdfs)\n",
    "learnsql.info()"
   ]
  },
  {
   "cell_type": "code",
   "execution_count": 51,
   "id": "e5c0c4e1-9eb6-4a42-878b-5e05fe93d14b",
   "metadata": {},
   "outputs": [
    {
     "name": "stdout",
     "output_type": "stream",
     "text": [
      "<class 'pandas.core.frame.DataFrame'>\n",
      "Int64Index: 3407 entries, 0 to 10\n",
      "Data columns (total 12 columns):\n",
      " #   Column                  Non-Null Count  Dtype  \n",
      "---  ------                  --------------  -----  \n",
      " 0   author                  3407 non-null   object \n",
      " 1   created_utc             3407 non-null   int64  \n",
      " 2   id                      3407 non-null   object \n",
      " 3   is_created_from_ads_ui  1030 non-null   object \n",
      " 4   num_comments            3407 non-null   int64  \n",
      " 5   score                   3407 non-null   int64  \n",
      " 6   selftext                3407 non-null   object \n",
      " 7   subreddit               3407 non-null   object \n",
      " 8   title                   3407 non-null   object \n",
      " 9   total_awards_received   2580 non-null   float64\n",
      " 10  upvote_ratio            1999 non-null   float64\n",
      " 11  url                     3407 non-null   object \n",
      "dtypes: float64(2), int64(3), object(7)\n",
      "memory usage: 346.0+ KB\n"
     ]
    }
   ],
   "source": [
    "learnsql.info()"
   ]
  },
  {
   "cell_type": "markdown",
   "id": "739b1f08-be2f-426a-a8c1-fa2020f45358",
   "metadata": {},
   "source": [
    "<font color=white>.</font>"
   ]
  },
  {
   "cell_type": "markdown",
   "id": "be522af9-b8f3-4abf-aa2a-3a36af4cdd6b",
   "metadata": {},
   "source": [
    "#### Export dataframes"
   ]
  },
  {
   "cell_type": "code",
   "execution_count": 52,
   "id": "832db427",
   "metadata": {},
   "outputs": [],
   "source": [
    "# export df\n",
    "learnpython.to_csv('./data/learnpython2.csv')"
   ]
  },
  {
   "cell_type": "code",
   "execution_count": 53,
   "id": "b6c5055a-bdd2-4d7e-83ce-a483a47a8bb0",
   "metadata": {},
   "outputs": [],
   "source": [
    "learnsql.to_csv('./data/learnsql2.csv')"
   ]
  }
 ],
 "metadata": {
  "kernelspec": {
   "display_name": "Python 3 (ipykernel)",
   "language": "python",
   "name": "python3"
  },
  "language_info": {
   "codemirror_mode": {
    "name": "ipython",
    "version": 3
   },
   "file_extension": ".py",
   "mimetype": "text/x-python",
   "name": "python",
   "nbconvert_exporter": "python",
   "pygments_lexer": "ipython3",
   "version": "3.9.7"
  }
 },
 "nbformat": 4,
 "nbformat_minor": 5
}
