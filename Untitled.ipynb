{
 "cells": [
  {
   "cell_type": "code",
   "execution_count": null,
   "id": "79cd81dc-f4d1-4c18-9e8c-d284a5bd58bb",
   "metadata": {},
   "outputs": [],
   "source": [
    "import requests\n",
    "import pandas as pd\n"
   ]
  },
  {
   "cell_type": "code",
   "execution_count": null,
   "id": "106411fb-b840-4ac4-9ffb-38cb450673a0",
   "metadata": {},
   "outputs": [],
   "source": [
    "params = {\n",
    "    'subreddit':'news',\n",
    "    'size':50,\n",
    "    'q':'keyword'\n",
    "}"
   ]
  },
  {
   "cell_type": "code",
   "execution_count": null,
   "id": "82976b57-35c2-457e-9748-fd5c9e810c01",
   "metadata": {},
   "outputs": [],
   "source": []
  }
 ],
 "metadata": {
  "kernelspec": {
   "display_name": "Python 3 (ipykernel)",
   "language": "python",
   "name": "python3"
  },
  "language_info": {
   "codemirror_mode": {
    "name": "ipython",
    "version": 3
   },
   "file_extension": ".py",
   "mimetype": "text/x-python",
   "name": "python",
   "nbconvert_exporter": "python",
   "pygments_lexer": "ipython3",
   "version": "3.9.10"
  }
 },
 "nbformat": 4,
 "nbformat_minor": 5
}
