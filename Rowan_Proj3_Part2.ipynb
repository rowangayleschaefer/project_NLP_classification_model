{
 "cells": [
  {
   "cell_type": "code",
   "execution_count": null,
   "id": "7bab0adf",
   "metadata": {},
   "outputs": [],
   "source": [
    "# H1 Title "
   ]
  },
  {
   "cell_type": "code",
   "execution_count": null,
   "id": "8d6b45ca",
   "metadata": {},
   "outputs": [],
   "source": [
    "# H2 Preprocessing, Modeling & Evaluation"
   ]
  },
  {
   "cell_type": "code",
   "execution_count": null,
   "id": "8a919a59",
   "metadata": {},
   "outputs": [],
   "source": [
    "# Picture"
   ]
  },
  {
   "cell_type": "code",
   "execution_count": null,
   "id": "d41af9b4",
   "metadata": {},
   "outputs": [],
   "source": [
    "# H3 Problem statement"
   ]
  },
  {
   "cell_type": "code",
   "execution_count": null,
   "id": "305c503d",
   "metadata": {},
   "outputs": [],
   "source": [
    "# Research questions\n",
    "# List"
   ]
  },
  {
   "cell_type": "code",
   "execution_count": null,
   "id": "82976b57-35c2-457e-9748-fd5c9e810c01",
   "metadata": {},
   "outputs": [],
   "source": [
    "# # H2 Preprocessing\n",
    "# **Preprocessing and Modeling**\n",
    "# - Is text data successfully converted to a matrix representation?\n",
    "# - Are methods such as stop words, stemming, and lemmatization explored?\n",
    "# - Does the student properly split and/or sample the data for validation/training purposes?"
   ]
  },
  {
   "cell_type": "code",
   "execution_count": null,
   "id": "82bda2ad",
   "metadata": {},
   "outputs": [],
   "source": [
    "# H4 imports"
   ]
  },
  {
   "cell_type": "code",
   "execution_count": null,
   "id": "6387e7db",
   "metadata": {},
   "outputs": [],
   "source": [
    "# imports\n",
    "# import df"
   ]
  },
  {
   "cell_type": "code",
   "execution_count": null,
   "id": "7faeb641",
   "metadata": {},
   "outputs": [],
   "source": [
    "# H4 Matrix"
   ]
  },
  {
   "cell_type": "code",
   "execution_count": null,
   "id": "6edab595",
   "metadata": {},
   "outputs": [],
   "source": [
    "# Convert to matrix"
   ]
  },
  {
   "cell_type": "code",
   "execution_count": null,
   "id": "ec5d2b5b",
   "metadata": {},
   "outputs": [],
   "source": [
    "# H4 Stop words, stemming, lemmatization"
   ]
  },
  {
   "cell_type": "code",
   "execution_count": null,
   "id": "3e9d54aa",
   "metadata": {},
   "outputs": [],
   "source": []
  },
  {
   "cell_type": "code",
   "execution_count": null,
   "id": "d8652b80",
   "metadata": {},
   "outputs": [],
   "source": []
  },
  {
   "cell_type": "code",
   "execution_count": null,
   "id": "492150ff",
   "metadata": {},
   "outputs": [],
   "source": [
    "# H2 Modeling\n",
    "# - Does the student test and evaluate a variety of models to identify a production algorithm (**AT MINIMUM:** two classification models, **BONUS:** try a Naive Bayes)?\n",
    "# - Does the student defend their choice of production model relevant to the data at hand and the problem?\n",
    "# - Does the student explain how the model works and evaluate its performance successes/downfalls?"
   ]
  },
  {
   "cell_type": "code",
   "execution_count": null,
   "id": "5370d1f4",
   "metadata": {},
   "outputs": [],
   "source": [
    "# H4"
   ]
  },
  {
   "cell_type": "code",
   "execution_count": null,
   "id": "1c792727",
   "metadata": {},
   "outputs": [],
   "source": [
    "# H4"
   ]
  },
  {
   "cell_type": "code",
   "execution_count": null,
   "id": "0527b1c0",
   "metadata": {},
   "outputs": [],
   "source": [
    "# H4"
   ]
  },
  {
   "cell_type": "code",
   "execution_count": null,
   "id": "598e03ad",
   "metadata": {},
   "outputs": [],
   "source": [
    "# # H2 Evaluation\n",
    "# **Evaluation and Conceptual Understanding**\n",
    "# - Does the student accurately identify and explain the baseline score?\n",
    "# - Does the student select and use metrics relevant to the problem objective?\n",
    "# - Does the student interpret the results of their model for purposes of inference?\n",
    "# - Is domain knowledge demonstrated when interpreting results?\n",
    "# - Does the student provide appropriate interpretation with regards to descriptive and inferential statistics?"
   ]
  },
  {
   "cell_type": "code",
   "execution_count": null,
   "id": "51625b3b",
   "metadata": {},
   "outputs": [],
   "source": [
    "# H4 Baseline model"
   ]
  },
  {
   "cell_type": "code",
   "execution_count": null,
   "id": "d4674582",
   "metadata": {},
   "outputs": [],
   "source": [
    "# Make baseline model"
   ]
  },
  {
   "cell_type": "code",
   "execution_count": null,
   "id": "7cc37f0e",
   "metadata": {},
   "outputs": [],
   "source": [
    "# H4 Metric 1"
   ]
  },
  {
   "cell_type": "code",
   "execution_count": null,
   "id": "89e73363",
   "metadata": {},
   "outputs": [],
   "source": [
    "# Relevant Metric"
   ]
  },
  {
   "cell_type": "code",
   "execution_count": null,
   "id": "96a2cddd",
   "metadata": {},
   "outputs": [],
   "source": [
    "# Interpret metric 1 md"
   ]
  },
  {
   "cell_type": "code",
   "execution_count": null,
   "id": "5df82cdb",
   "metadata": {},
   "outputs": [],
   "source": [
    "# H4 Metric 2"
   ]
  },
  {
   "cell_type": "code",
   "execution_count": null,
   "id": "bc2357e5",
   "metadata": {},
   "outputs": [],
   "source": [
    "# Relevant Metric"
   ]
  },
  {
   "cell_type": "code",
   "execution_count": null,
   "id": "624cb20f",
   "metadata": {},
   "outputs": [],
   "source": [
    "# Interpret metric 2 md"
   ]
  },
  {
   "cell_type": "code",
   "execution_count": null,
   "id": "b322efae",
   "metadata": {},
   "outputs": [],
   "source": [
    "# H2 Conclusion and recommendations\n",
    "\n",
    "# - Does the student provide appropriate context to connect individual steps back to the overall project?\n",
    "# - Is it clear how the final recommendations were reached?\n",
    "# - Are the conclusions/recommendations clearly stated?\n",
    "# - Does the conclusion answer the original problem statement?\n",
    "# - Does the student address how findings of this research can be applied for the benefit of stakeholders?\n",
    "# - Are future steps to move the project forward identified?"
   ]
  },
  {
   "cell_type": "code",
   "execution_count": null,
   "id": "64337212",
   "metadata": {},
   "outputs": [],
   "source": [
    "# Transfer\n",
    "\n",
    "# H4 recommendations? For another data scientist who wants to do this better? For who?\n",
    "# List\n",
    "\n",
    "# List"
   ]
  }
 ],
 "metadata": {
  "kernelspec": {
   "display_name": "Python 3 (ipykernel)",
   "language": "python",
   "name": "python3"
  },
  "language_info": {
   "codemirror_mode": {
    "name": "ipython",
    "version": 3
   },
   "file_extension": ".py",
   "mimetype": "text/x-python",
   "name": "python",
   "nbconvert_exporter": "python",
   "pygments_lexer": "ipython3",
   "version": "3.9.10"
  }
 },
 "nbformat": 4,
 "nbformat_minor": 5
}
