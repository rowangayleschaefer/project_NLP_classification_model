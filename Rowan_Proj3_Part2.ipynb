{
 "cells": [
  {
   "cell_type": "code",
   "execution_count": null,
   "id": "7bab0adf",
   "metadata": {},
   "outputs": [],
   "source": [
    "# H1 Title "
   ]
  },
  {
   "cell_type": "code",
   "execution_count": null,
   "id": "8d6b45ca",
   "metadata": {},
   "outputs": [],
   "source": [
    "# H2 Preprocessing, Modeling & Evaluation"
   ]
  },
  {
   "cell_type": "code",
   "execution_count": null,
   "id": "8a919a59",
   "metadata": {},
   "outputs": [],
   "source": [
    "# Picture"
   ]
  },
  {
   "cell_type": "code",
   "execution_count": null,
   "id": "d41af9b4",
   "metadata": {},
   "outputs": [],
   "source": [
    "# H3 Problem statement"
   ]
  },
  {
   "cell_type": "code",
   "execution_count": null,
   "id": "305c503d",
   "metadata": {},
   "outputs": [],
   "source": [
    "# Research questions\n",
    "# List"
   ]
  },
  {
   "cell_type": "code",
   "execution_count": null,
   "id": "82976b57-35c2-457e-9748-fd5c9e810c01",
   "metadata": {},
   "outputs": [],
   "source": [
    "# H2 Preprocessing"
   ]
  },
  {
   "cell_type": "code",
   "execution_count": null,
   "id": "82bda2ad",
   "metadata": {},
   "outputs": [],
   "source": [
    "# H4 imports"
   ]
  },
  {
   "cell_type": "code",
   "execution_count": null,
   "id": "6387e7db",
   "metadata": {},
   "outputs": [],
   "source": [
    "# imports\n",
    "# import df"
   ]
  },
  {
   "cell_type": "code",
   "execution_count": null,
   "id": "492150ff",
   "metadata": {},
   "outputs": [],
   "source": [
    "# H2 Modeling"
   ]
  },
  {
   "cell_type": "code",
   "execution_count": null,
   "id": "5370d1f4",
   "metadata": {},
   "outputs": [],
   "source": [
    "# H4"
   ]
  },
  {
   "cell_type": "code",
   "execution_count": null,
   "id": "1c792727",
   "metadata": {},
   "outputs": [],
   "source": [
    "# H4"
   ]
  },
  {
   "cell_type": "code",
   "execution_count": null,
   "id": "0527b1c0",
   "metadata": {},
   "outputs": [],
   "source": [
    "# H4"
   ]
  },
  {
   "cell_type": "code",
   "execution_count": null,
   "id": "598e03ad",
   "metadata": {},
   "outputs": [],
   "source": [
    "# H2 Evaluation"
   ]
  },
  {
   "cell_type": "code",
   "execution_count": null,
   "id": "51625b3b",
   "metadata": {},
   "outputs": [],
   "source": [
    "# H4"
   ]
  },
  {
   "cell_type": "code",
   "execution_count": null,
   "id": "7cc37f0e",
   "metadata": {},
   "outputs": [],
   "source": [
    "# H4"
   ]
  },
  {
   "cell_type": "code",
   "execution_count": null,
   "id": "d437ad7e",
   "metadata": {},
   "outputs": [],
   "source": [
    "# H4"
   ]
  },
  {
   "cell_type": "code",
   "execution_count": null,
   "id": "b322efae",
   "metadata": {},
   "outputs": [],
   "source": [
    "# H2 Conclusion and recommendations"
   ]
  },
  {
   "cell_type": "code",
   "execution_count": null,
   "id": "64337212",
   "metadata": {},
   "outputs": [],
   "source": [
    "# Transfer\n",
    "\n",
    "# H4 recommendations? For another data scientist who wants to do this better? For who?\n",
    "# List\n",
    "\n",
    "# List"
   ]
  }
 ],
 "metadata": {
  "kernelspec": {
   "display_name": "Python 3 (ipykernel)",
   "language": "python",
   "name": "python3"
  },
  "language_info": {
   "codemirror_mode": {
    "name": "ipython",
    "version": 3
   },
   "file_extension": ".py",
   "mimetype": "text/x-python",
   "name": "python",
   "nbconvert_exporter": "python",
   "pygments_lexer": "ipython3",
   "version": "3.9.10"
  }
 },
 "nbformat": 4,
 "nbformat_minor": 5
}
